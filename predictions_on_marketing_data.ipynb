{
 "cells": [
  {
   "cell_type": "markdown",
   "id": "7d1f3e06",
   "metadata": {},
   "source": [
    "# Prédicitons on marketing"
   ]
  },
  {
   "cell_type": "code",
   "execution_count": 1,
   "id": "721e6652",
   "metadata": {},
   "outputs": [],
   "source": [
    "import pandas as pd\n",
    "import pickle"
   ]
  },
  {
   "cell_type": "code",
   "execution_count": 5,
   "id": "ba0b85e2",
   "metadata": {},
   "outputs": [],
   "source": [
    "# Load data preprocessor\n",
    "with open(\"data_transformer.pkl\", 'rb') as file:\n",
    "    transformer = pickle.load(file)\n",
    "    \n",
    "# Load best estimator : random forest \n",
    "with open('mlruns/187421170836912428/e1ce6ec2bb884dbea17dc21ebda6b19f/artifacts/random forest/model.pkl', 'rb') as file:\n",
    "    rf = pickle.load(file)"
   ]
  },
  {
   "cell_type": "code",
   "execution_count": 8,
   "id": "addbdb4b",
   "metadata": {},
   "outputs": [
    {
     "data": {
      "text/html": [
       "<div>\n",
       "<style scoped>\n",
       "    .dataframe tbody tr th:only-of-type {\n",
       "        vertical-align: middle;\n",
       "    }\n",
       "\n",
       "    .dataframe tbody tr th {\n",
       "        vertical-align: top;\n",
       "    }\n",
       "\n",
       "    .dataframe thead th {\n",
       "        text-align: right;\n",
       "    }\n",
       "</style>\n",
       "<table border=\"1\" class=\"dataframe\">\n",
       "  <thead>\n",
       "    <tr style=\"text-align: right;\">\n",
       "      <th></th>\n",
       "      <th>age</th>\n",
       "      <th>sexe</th>\n",
       "      <th>taux</th>\n",
       "      <th>situationFamiliale</th>\n",
       "      <th>nbEnfantsAcharge</th>\n",
       "      <th>VoitureN2</th>\n",
       "    </tr>\n",
       "  </thead>\n",
       "  <tbody>\n",
       "    <tr>\n",
       "      <th>0</th>\n",
       "      <td>21</td>\n",
       "      <td>F</td>\n",
       "      <td>1396</td>\n",
       "      <td>Célibataire</td>\n",
       "      <td>0</td>\n",
       "      <td>False</td>\n",
       "    </tr>\n",
       "    <tr>\n",
       "      <th>1</th>\n",
       "      <td>35</td>\n",
       "      <td>M</td>\n",
       "      <td>223</td>\n",
       "      <td>Célibataire</td>\n",
       "      <td>0</td>\n",
       "      <td>False</td>\n",
       "    </tr>\n",
       "    <tr>\n",
       "      <th>2</th>\n",
       "      <td>48</td>\n",
       "      <td>M</td>\n",
       "      <td>401</td>\n",
       "      <td>Célibataire</td>\n",
       "      <td>0</td>\n",
       "      <td>False</td>\n",
       "    </tr>\n",
       "  </tbody>\n",
       "</table>\n",
       "</div>"
      ],
      "text/plain": [
       "   age sexe  taux situationFamiliale  nbEnfantsAcharge  VoitureN2\n",
       "0   21    F  1396        Célibataire                 0      False\n",
       "1   35    M   223        Célibataire                 0      False\n",
       "2   48    M   401        Célibataire                 0      False"
      ]
     },
     "metadata": {},
     "output_type": "display_data"
    },
    {
     "name": "stdout",
     "output_type": "stream",
     "text": [
      "\n",
      "shape X_marketing: (20, 9)\n"
     ]
    }
   ],
   "source": [
    "path_to_marketing = \"./Données communes/Marketing.csv\"\n",
    "marketing = pd.read_csv(path_to_marketing, encoding=\"ISO-8859-1\")\n",
    "\n",
    "marketing.rename(columns={\"2eme voiture\" : \"VoitureN2\"}, inplace=True)\n",
    "\n",
    "display(marketing.head(3))\n",
    "\n",
    "map_sexe = {\"M\": \"Masculin\", \"F\": \"Féminin\", \"Masculin\" : \"Masculin\", \"Homme\" : \"Masculin\", \"Féminin\" : \"Féminin\", \"Femme\" : \"Féminin\"}\n",
    "map_situationFamiliale = {\"En Couple\": \"En Couple\", \"Célibataire\": \"Célibataire\", \"Seule\" : \"Célibataire\", \"Marié(e)\" : \"En Couple\", \"Seul\" : \"Célibataire\"}\n",
    "map_VoitureN2 = {True: \"Oui\", False: \"Non\"}\n",
    "\n",
    "marketing.age = pd.to_numeric(marketing.age, errors=\"coerce\")\n",
    "marketing.taux = pd.to_numeric(marketing.taux, errors=\"coerce\")\n",
    "marketing.nbEnfantsAcharge = pd.to_numeric(marketing.nbEnfantsAcharge, errors=\"coerce\") \n",
    "\n",
    "marketing['VoitureN2'] = marketing['VoitureN2'].map(map_VoitureN2)\n",
    "marketing.sexe = marketing.sexe.map(map_sexe)\n",
    "marketing.situationFamiliale = marketing.situationFamiliale.map(map_situationFamiliale)\n",
    "\n",
    "marketing['tranche_age'] = marketing.age.map(lambda x : 0 if x < 35 else (1 if x>=35 and x<60 else 2))\n",
    "\n",
    "\n",
    "X_marketing = transformer.transform(marketing)\n",
    "print(\"\\nshape X_marketing:\", X_marketing.shape)"
   ]
  },
  {
   "cell_type": "code",
   "execution_count": 10,
   "id": "e0577a12",
   "metadata": {},
   "outputs": [
    {
     "data": {
      "text/plain": [
       "array([3, 0, 3, 1, 1, 2, 2, 3, 0, 2, 2, 3, 3, 2, 3, 1, 2, 1, 3, 3])"
      ]
     },
     "execution_count": 10,
     "metadata": {},
     "output_type": "execute_result"
    }
   ],
   "source": [
    "rf.predict(X_marketing)"
   ]
  },
  {
   "cell_type": "code",
   "execution_count": null,
   "id": "f3ced816",
   "metadata": {},
   "outputs": [],
   "source": []
  }
 ],
 "metadata": {
  "kernelspec": {
   "display_name": "Python 3 (ipykernel)",
   "language": "python",
   "name": "python3"
  },
  "language_info": {
   "codemirror_mode": {
    "name": "ipython",
    "version": 3
   },
   "file_extension": ".py",
   "mimetype": "text/x-python",
   "name": "python",
   "nbconvert_exporter": "python",
   "pygments_lexer": "ipython3",
   "version": "3.9.12"
  }
 },
 "nbformat": 4,
 "nbformat_minor": 5
}
