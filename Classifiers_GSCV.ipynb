{
 "cells": [
  {
   "cell_type": "code",
   "execution_count": 1,
   "id": "35ef47de",
   "metadata": {},
   "outputs": [],
   "source": [
    "import pandas as pd\n",
    "from sklearn.compose import ColumnTransformer\n",
    "from sklearn.pipeline import Pipeline \n",
    "from sklearn.preprocessing import OneHotEncoder, StandardScaler, MinMaxScaler \n",
    "from sklearn.linear_model import LogisticRegression  \n",
    "from sklearn.ensemble import RandomForestClassifier, AdaBoostClassifier\n",
    "from sklearn.model_selection import train_test_split, GridSearchCV \n",
    "from sklearn.metrics import accuracy_score, confusion_matrix, precision_score, f1_score\n",
    "from sklearn.neighbors import KNeighborsClassifier  \n",
    "from sklearn.tree import DecisionTreeClassifier\n",
    "from matplotlib import pyplot as plt\n",
    "import pickle \n",
    "from xgboost import XGBClassifier\n",
    "\n",
    "import mlflow\n",
    "from mlflow.tracking import MlflowClient \n",
    "\n",
    "import datetime as dt\n",
    "\n",
    "import warnings\n",
    "warnings.filterwarnings(\"ignore\")"
   ]
  },
  {
   "cell_type": "code",
   "execution_count": 2,
   "id": "c5096b00",
   "metadata": {},
   "outputs": [],
   "source": [
    "RANDOM_STATE = 42"
   ]
  },
  {
   "cell_type": "markdown",
   "id": "4902f98a",
   "metadata": {},
   "source": [
    "## Load data from pickle"
   ]
  },
  {
   "cell_type": "code",
   "execution_count": 3,
   "id": "830275d6",
   "metadata": {},
   "outputs": [],
   "source": [
    "clients = pd.read_pickle('clients_labeled_cleaned_08_03_2023.pkl')"
   ]
  },
  {
   "cell_type": "code",
   "execution_count": 4,
   "id": "84f4a291",
   "metadata": {},
   "outputs": [
    {
     "data": {
      "text/html": [
       "<div>\n",
       "<style scoped>\n",
       "    .dataframe tbody tr th:only-of-type {\n",
       "        vertical-align: middle;\n",
       "    }\n",
       "\n",
       "    .dataframe tbody tr th {\n",
       "        vertical-align: top;\n",
       "    }\n",
       "\n",
       "    .dataframe thead th {\n",
       "        text-align: right;\n",
       "    }\n",
       "</style>\n",
       "<table border=\"1\" class=\"dataframe\">\n",
       "  <thead>\n",
       "    <tr style=\"text-align: right;\">\n",
       "      <th></th>\n",
       "      <th>age</th>\n",
       "      <th>sexe</th>\n",
       "      <th>taux</th>\n",
       "      <th>situationFamiliale</th>\n",
       "      <th>nbEnfantsAcharge</th>\n",
       "      <th>VoitureN2</th>\n",
       "      <th>label</th>\n",
       "      <th>tranche_age</th>\n",
       "    </tr>\n",
       "  </thead>\n",
       "  <tbody>\n",
       "    <tr>\n",
       "      <th>0</th>\n",
       "      <td>62.0</td>\n",
       "      <td>Masculin</td>\n",
       "      <td>1262.0</td>\n",
       "      <td>En Couple</td>\n",
       "      <td>1.0</td>\n",
       "      <td>Non</td>\n",
       "      <td>2</td>\n",
       "      <td>2</td>\n",
       "    </tr>\n",
       "    <tr>\n",
       "      <th>1</th>\n",
       "      <td>68.0</td>\n",
       "      <td>Masculin</td>\n",
       "      <td>514.0</td>\n",
       "      <td>En Couple</td>\n",
       "      <td>2.0</td>\n",
       "      <td>Non</td>\n",
       "      <td>2</td>\n",
       "      <td>2</td>\n",
       "    </tr>\n",
       "    <tr>\n",
       "      <th>2</th>\n",
       "      <td>26.0</td>\n",
       "      <td>Féminin</td>\n",
       "      <td>181.0</td>\n",
       "      <td>En Couple</td>\n",
       "      <td>4.0</td>\n",
       "      <td>Oui</td>\n",
       "      <td>1</td>\n",
       "      <td>0</td>\n",
       "    </tr>\n",
       "    <tr>\n",
       "      <th>3</th>\n",
       "      <td>34.0</td>\n",
       "      <td>Masculin</td>\n",
       "      <td>829.0</td>\n",
       "      <td>Célibataire</td>\n",
       "      <td>0.0</td>\n",
       "      <td>Non</td>\n",
       "      <td>3</td>\n",
       "      <td>0</td>\n",
       "    </tr>\n",
       "    <tr>\n",
       "      <th>4</th>\n",
       "      <td>50.0</td>\n",
       "      <td>Masculin</td>\n",
       "      <td>1169.0</td>\n",
       "      <td>En Couple</td>\n",
       "      <td>4.0</td>\n",
       "      <td>Non</td>\n",
       "      <td>4</td>\n",
       "      <td>1</td>\n",
       "    </tr>\n",
       "  </tbody>\n",
       "</table>\n",
       "</div>"
      ],
      "text/plain": [
       "    age      sexe    taux situationFamiliale  nbEnfantsAcharge VoitureN2  \\\n",
       "0  62.0  Masculin  1262.0          En Couple               1.0       Non   \n",
       "1  68.0  Masculin   514.0          En Couple               2.0       Non   \n",
       "2  26.0   Féminin   181.0          En Couple               4.0       Oui   \n",
       "3  34.0  Masculin   829.0        Célibataire               0.0       Non   \n",
       "4  50.0  Masculin  1169.0          En Couple               4.0       Non   \n",
       "\n",
       "   label  tranche_age  \n",
       "0      2            2  \n",
       "1      2            2  \n",
       "2      1            0  \n",
       "3      3            0  \n",
       "4      4            1  "
      ]
     },
     "execution_count": 4,
     "metadata": {},
     "output_type": "execute_result"
    }
   ],
   "source": [
    "clients.head()"
   ]
  },
  {
   "cell_type": "code",
   "execution_count": null,
   "id": "9662f1b1",
   "metadata": {},
   "outputs": [],
   "source": []
  },
  {
   "cell_type": "markdown",
   "id": "8e982cfc",
   "metadata": {},
   "source": [
    "## Transformations"
   ]
  },
  {
   "cell_type": "code",
   "execution_count": 5,
   "id": "0e2cadbf",
   "metadata": {},
   "outputs": [],
   "source": [
    "y = clients['label']\n",
    "X = clients.drop(columns=[\"label\"])\n",
    "X_train, X_test, y_train, y_test = train_test_split(X, y, test_size=0.4, random_state=RANDOM_STATE, stratify=y)"
   ]
  },
  {
   "cell_type": "code",
   "execution_count": 6,
   "id": "29e9988f",
   "metadata": {},
   "outputs": [],
   "source": [
    "column_transformer = ColumnTransformer( \n",
    "    [\n",
    "        ('ohe', OneHotEncoder(drop=\"if_binary\"), [\"sexe\", 'situationFamiliale', 'VoitureN2', 'tranche_age']),\n",
    "        ('scaling', MinMaxScaler(), ['taux', 'nbEnfantsAcharge', 'age']),\n",
    "    ]\n",
    ")\n",
    "pipeline_clients = Pipeline(steps = [\n",
    "    ('scaling', column_transformer)\n",
    "])\n",
    "\n",
    "X_train = pipeline_clients.fit_transform(X_train)\n",
    "X_test = pipeline_clients.transform(X_test)"
   ]
  },
  {
   "cell_type": "code",
   "execution_count": 7,
   "id": "8cf2dd3c",
   "metadata": {},
   "outputs": [],
   "source": [
    "## Save the data_preprocessor object\n",
    "with open(\"data_transformer.pkl\", 'wb') as file:\n",
    "    pickle.dump(pipeline_clients, file)"
   ]
  },
  {
   "cell_type": "markdown",
   "id": "db44e07b",
   "metadata": {},
   "source": [
    "## Fit & Log"
   ]
  },
  {
   "cell_type": "code",
   "execution_count": 8,
   "id": "d5f388b9",
   "metadata": {},
   "outputs": [],
   "source": [
    "class Trainer :\n",
    "    def __init__(self, X_train, X_test, y_train, y_test, models, params_grid, scorings, experiment_id=1) :\n",
    "        self.X_train = X_train\n",
    "        self.X_test = X_test\n",
    "        self.y_train = y_train\n",
    "        self.y_test = y_test\n",
    "        self.models = models\n",
    "        self.params_grid = params_grid\n",
    "        self.scorings = scorings\n",
    "        self.models_cv = {}\n",
    "        self.experiment_id = experiment_id  \n",
    "        \n",
    "    def run(self, verbose=True):\n",
    "        accs = precs = f1s = {}\n",
    "        try :\n",
    "            # Load experiment or create new \n",
    "            experiment_name = 'experiment_'+str(self.experiment_id) + '_grid_search'\n",
    "            experiment_id = mlflow.get_experiment_by_name(experiment_name)\n",
    "            experiment_id = experiment_id.experiment_id if experiment_id else mlflow.create_experiment(experiment_name)\n",
    "\n",
    "            for model, param_grid, scoring in zip(self.models, self.params_grid, self.scorings) :\n",
    "                # set a concatenation model and datetime for each run\n",
    "                with mlflow.start_run(run_name=model+\"_\"+str(dt.datetime.now())[0:-10], experiment_id=experiment_id) :  \n",
    "                    # define and train gridsearch for each model with its params\n",
    "                    model_cv = GridSearchCV(estimator = models_test[model], param_grid=param_grid, scoring=scoring, refit='accuracy', cv=5, n_jobs=-1)\n",
    "                    model_cv.fit(self.X_train, self.y_train)\n",
    "\n",
    "                    # add each model to a models list\n",
    "                    self.models_cv[model] = model_cv \n",
    "\n",
    "                    # make predictions\n",
    "                    pred_train = model_cv.predict(self.X_train)\n",
    "                    pred_test = model_cv.predict(self.X_test)\n",
    "\n",
    "                    # compute and logs metrics for each model\n",
    "                    accs[model], precs[model], f1s[model] = self.compute_metrics(pred_train, pred_test, model, verbose)\n",
    "\n",
    "                    cm_train = confusion_matrix(self.y_train, pred_train)\n",
    "                    cm_test = confusion_matrix(self.y_test, pred_test)\n",
    "\n",
    "                    # log others items\n",
    "                    mlflow.sklearn.log_model(model_cv, model)\n",
    "                    mlflow.log_param(\"model\", model)\n",
    "                    mlflow.log_params(model_cv.best_params_) \n",
    "                    mlflow.set_tag('estimator_class', type(model_cv))\n",
    "        except Exception as e : \n",
    "            print(\"Une erreur est survenue : \", e)\n",
    "        return accs, precs, f1s\n",
    "         \n",
    "                    \n",
    "    def compute_metrics(self, pred_train, pred_test, model, verbose) :\n",
    "        acc_train = accuracy_score(self.y_train, pred_train)\n",
    "        acc_test = accuracy_score(self.y_test, pred_test)\n",
    "        prec_train = precision_score(self.y_train, pred_train, average='macro')\n",
    "        prec_test = precision_score(self.y_test, pred_test, average='macro') \n",
    "        f1_train = f1_score(self.y_train, pred_train, average='micro')\n",
    "        f1_test = f1_score(self.y_test, pred_test, average='micro') \n",
    "        \n",
    "        mlflow.log_metric(\"accuracy_train\", acc_train)\n",
    "        mlflow.log_metric(\"accuracy_test\", acc_test)\n",
    "        mlflow.log_metric(\"precision_train\", prec_train)\n",
    "        mlflow.log_metric(\"precision_test\", prec_test)\n",
    "        mlflow.log_metric(\"f1_score_train\", f1_train)\n",
    "        mlflow.log_metric(\"f1_score_test\", f1_test)\n",
    "        \n",
    "        if(verbose):\n",
    "            self.display_metrics(model, acc_train, acc_test, prec_train, prec_test, f1_train, f1_test)\n",
    "            \n",
    "        return {\"train\" : acc_train, \"test\":acc_test}, {\"train\":prec_train, \"test\":prec_test}, {\"train\":f1_train, \"test\":f1_test}\n",
    "        \n",
    "        \n",
    "    def display_metrics(self, model, acc_train, acc_test, prec_train, prec_test, f1_train, f1_test):\n",
    "        print(model)\n",
    "        print('-'*10)\n",
    "        print(f\"accuracy score on train : {acc_train*100:.2f}%\")\n",
    "        print(f\"accuracy score on test: {acc_test*100:.2f}%\")\n",
    "        print()\n",
    "        print(f\"precision score on train : {prec_train*100:.2f}%\")\n",
    "        print(f\"precision score on test : {prec_test*100:.2f}%\")\n",
    "        print()\n",
    "        print(f\"f1 score on train: {f1_train*100:.2f}%\")\n",
    "        print(f\"f1 score on test: {f1_test*100:.2f}%\")\n",
    "        print()"
   ]
  },
  {
   "cell_type": "code",
   "execution_count": 9,
   "id": "dbffcda3",
   "metadata": {
    "scrolled": true
   },
   "outputs": [
    {
     "name": "stdout",
     "output_type": "stream",
     "text": [
      "log_reg\n",
      "----------\n",
      "accuracy score on train : 69.83%\n",
      "accuracy score on test: 70.05%\n",
      "\n",
      "precision score on train : 67.57%\n",
      "precision score on test : 67.74%\n",
      "\n",
      "f1 score on train: 69.83%\n",
      "f1 score on test: 70.05%\n",
      "\n",
      "random forest\n",
      "----------\n",
      "accuracy score on train : 76.77%\n",
      "accuracy score on test: 74.61%\n",
      "\n",
      "precision score on train : 81.61%\n",
      "precision score on test : 78.95%\n",
      "\n",
      "f1 score on train: 76.77%\n",
      "f1 score on test: 74.61%\n",
      "\n",
      "xgboost\n",
      "----------\n",
      "accuracy score on train : 76.29%\n",
      "accuracy score on test: 74.53%\n",
      "\n",
      "precision score on train : 80.99%\n",
      "precision score on test : 78.75%\n",
      "\n",
      "f1 score on train: 76.29%\n",
      "f1 score on test: 74.53%\n",
      "\n",
      "knn\n",
      "----------\n",
      "accuracy score on train : 76.66%\n",
      "accuracy score on test: 73.80%\n",
      "\n",
      "precision score on train : 80.07%\n",
      "precision score on test : 76.34%\n",
      "\n",
      "f1 score on train: 76.66%\n",
      "f1 score on test: 73.80%\n",
      "\n"
     ]
    }
   ],
   "source": [
    "models_test = {\n",
    "    \"log_reg\": LogisticRegression(random_state=RANDOM_STATE, n_jobs=-1), \n",
    "    \"random forest\" : RandomForestClassifier(bootstrap=False, n_jobs=-1, random_state=RANDOM_STATE), \n",
    "#     \"adaboost\" : AdaBoostClassifier(random_state=RANDOM_STATE),\n",
    "    \"xgboost\" : XGBClassifier(subsample=0.2, random_state=RANDOM_STATE),\n",
    "    \"knn\" : KNeighborsClassifier(n_jobs=-1), \n",
    "}\n",
    "params_grid = [\n",
    "    {'solver' : [\"lbfgs\", \"elasticnet\"], \"penalty\" : [\"l2\", \"l1\"], \"C\":[1, .1, .01] ,\"max_iter\": [1000]},  \n",
    "    {'n_estimators': [300], 'max_depth': [None, 5, 10, 15], 'min_samples_split': [2, 5, 10], 'min_samples_leaf':[2, 5, 10], 'criterion' : ['gini'], 'max_features': ['auto', 'sqrt']}, \n",
    "#     {'n_estimators': [250], 'learning_rate': [0.1, 0.05], 'base_estimator': [DecisionTreeClassifier(min_samples_split=5, min_samples_leaf=5, max_depth=None, random_state=RANDOM_STATE)] },\n",
    "    {'max_depth': [3, 5, 7], 'learning_rate': [0.1, 0.01, 0.05], 'n_estimators': [200, 300, 400]},\n",
    "    {'n_neighbors': [15, 20, 25], 'weights': ['uniform']},\n",
    "]\n",
    "scorings = [['accuracy', 'precision']] * len(models_test)\n",
    "\n",
    "\n",
    "trainer = Trainer(X_train, X_test, y_train, y_test, models_test, params_grid, scorings, experiment_id=1)\n",
    "accs, precs, f1s = trainer.run()"
   ]
  },
  {
   "cell_type": "code",
   "execution_count": 10,
   "id": "2e50f265",
   "metadata": {},
   "outputs": [
    {
     "name": "stdout",
     "output_type": "stream",
     "text": [
      "log_reg  =>  {'C': 1, 'max_iter': 1000, 'penalty': 'l2', 'solver': 'lbfgs'}\n",
      "\n",
      "random forest  =>  {'criterion': 'gini', 'max_depth': 10, 'max_features': 'auto', 'min_samples_leaf': 10, 'min_samples_split': 2, 'n_estimators': 300}\n",
      "\n",
      "xgboost  =>  {'learning_rate': 0.01, 'max_depth': 7, 'n_estimators': 200}\n",
      "\n",
      "knn  =>  {'n_neighbors': 25, 'weights': 'uniform'}\n",
      "\n"
     ]
    }
   ],
   "source": [
    "for name, model in trainer.models_cv.items() : \n",
    "    print(name, \" => \", model.best_params_) \n",
    "    print()"
   ]
  },
  {
   "cell_type": "code",
   "execution_count": 11,
   "id": "00e8e6f6",
   "metadata": {
    "scrolled": true
   },
   "outputs": [
    {
     "data": {
      "text/plain": [
       "[]"
      ]
     },
     "execution_count": 11,
     "metadata": {},
     "output_type": "execute_result"
    },
    {
     "data": {
      "image/png": "[encoded data removed]",
      "text/plain": [
       "<Figure size 864x1080 with 3 Axes>"
      ]
     },
     "metadata": {
      "needs_background": "light"
     },
     "output_type": "display_data"
    }
   ],
   "source": [
    "# plot metrics of each model  \n",
    "fig, axs = plt.subplots(nrows=3, ncols=1, figsize=(12,15))\n",
    "\n",
    "accs = pd.DataFrame.from_dict(accs, orient='index')\n",
    "accs.plot(kind=\"bar\", rot=0, title=\"Accuracy scores\", ax=axs[0])\n",
    "\n",
    "precs = pd.DataFrame.from_dict(precs, orient='index')\n",
    "precs.plot(kind=\"bar\", rot=0, title=\"Precision scores\", ax=axs[1])\n",
    "\n",
    "f1s = pd.DataFrame.from_dict(f1s, orient='index')\n",
    "f1s.plot(kind=\"bar\", rot=0, title=\"F1 scores\", ax=axs[2])\n",
    "\n",
    "plt.plot()"
   ]
  },
  {
   "cell_type": "markdown",
   "id": "7b02c2ed",
   "metadata": {},
   "source": [
    "## Confusion matrix"
   ]
  },
  {
   "cell_type": "code",
   "execution_count": 14,
   "id": "c08679ec",
   "metadata": {},
   "outputs": [
    {
     "name": "stdout",
     "output_type": "stream",
     "text": [
      "log_reg\n",
      "----------\n",
      "[[1663    1    3 2908    0]\n",
      " [   1 6583 2567    3    3]\n",
      " [   0 2245 7465    2  945]\n",
      " [1667    1    2 9138    0]\n",
      " [   0  226 1184    2 2660]]\n",
      "\n",
      "random forest\n",
      "----------\n",
      "[[ 2342     1     3  2229     0]\n",
      " [    0  5439  3711     4     3]\n",
      " [    0     9 10634     2    12]\n",
      " [ 2341     1     2  8464     0]\n",
      " [    1     1  1650     1  2419]]\n",
      "\n",
      "xgboost\n",
      "----------\n",
      "[[ 2176     1     3  2395     0]\n",
      " [    1  5441  3709     3     3]\n",
      " [    0     5 10648     2     2]\n",
      " [ 2219     1     2  8586     0]\n",
      " [    1     1  1652     1  2417]]\n",
      "\n",
      "knn\n",
      "----------\n",
      "[[ 2185     1     3  2386     0]\n",
      " [    0  5610  3541     4     2]\n",
      " [    2   326 10164     5   160]\n",
      " [ 2231     1     2  8574     0]\n",
      " [    4    36  1585     1  2446]]\n",
      "\n"
     ]
    }
   ],
   "source": [
    "for name, model in trainer.models_cv.items() : \n",
    "    print(name, \"-\"*10, sep=\"\\n\") \n",
    "    predictions = model.best_estimator_.predict(X_test)\n",
    "    print(confusion_matrix(y_test, predictions))\n",
    "    print()\n",
    "    "
   ]
  },
  {
   "cell_type": "markdown",
   "id": "8219da69",
   "metadata": {},
   "source": [
    "<font color=blue size=4>On constate grâce à aux différentes matrices de confusion que les modèles font beaucoup plus d'erreurs sur la classe 0. </font>"
   ]
  }
 ],
 "metadata": {
  "kernelspec": {
   "display_name": "Python 3 (ipykernel)",
   "language": "python",
   "name": "python3"
  },
  "language_info": {
   "codemirror_mode": {
    "name": "ipython",
    "version": 3
   },
   "file_extension": ".py",
   "mimetype": "text/x-python",
   "name": "python",
   "nbconvert_exporter": "python",
   "pygments_lexer": "ipython3",
   "version": "3.9.12"
  }
 },
 "nbformat": 4,
 "nbformat_minor": 5
}
