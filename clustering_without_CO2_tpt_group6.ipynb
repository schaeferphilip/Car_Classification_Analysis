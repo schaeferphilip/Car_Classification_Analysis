{
 "cells": [
  {
   "cell_type": "markdown",
   "metadata": {},
   "source": [
    "# Imports"
   ]
  },
  {
   "cell_type": "code",
   "execution_count": 82,
   "metadata": {},
   "outputs": [],
   "source": [
    "import numpy as np \n",
    "import pandas as pd \n",
    "import seaborn as sns\n",
    "from matplotlib import pyplot as plt \n",
    "from sklearn.decomposition import PCA\n",
    "from sklearn.manifold import TSNE\n",
    "from sklearn.preprocessing import LabelEncoder, OneHotEncoder, StandardScaler, MinMaxScaler\n",
    "from sklearn.compose import ColumnTransformer\n",
    "from sklearn.pipeline import Pipeline \n",
    "from sklearn.cluster import KMeans, AgglomerativeClustering \n",
    "from scipy.cluster import hierarchy\n",
    "from sklearn.linear_model import LogisticRegression\n",
    "from sklearn.tree import DecisionTreeClassifier\n",
    "from sklearn.ensemble import RandomForestClassifier\n",
    "from sklearn.model_selection import train_test_split, GridSearchCV\n",
    "from sklearn.metrics import silhouette_score\n",
    "from scipy.spatial.distance import pdist\n",
    "import plotly.express as px \n",
    "from yellowbrick.cluster import KElbowVisualizer, InterclusterDistance, SilhouetteVisualizer, silhouette_visualizer\n",
    "from sklearn.neighbors import NearestCentroid \n",
    "import pickle\n",
    "import matplotlib as mpl\n",
    "mpl.rcParams['font.size'] = 8\n",
    "import warnings\n",
    "warnings.filterwarnings(\"ignore\")"
   ]
  },
  {
   "cell_type": "markdown",
   "metadata": {},
   "source": [
    "# EDA Catalogue"
   ]
  },
  {
   "cell_type": "code",
   "execution_count": 83,
   "metadata": {},
   "outputs": [],
   "source": [
    "path_to_catalogue = \"./Données communes/Catalogue.csv\"\n",
    "catalogue = pd.read_csv(path_to_catalogue, encoding=\"ISO-8859-1\")"
   ]
  },
  {
   "cell_type": "code",
   "execution_count": 84,
   "metadata": {},
   "outputs": [
    {
     "name": "stdout",
     "output_type": "stream",
     "text": [
      "(270, 9)\n",
      "marque       object\n",
      "nom          object\n",
      "puissance     int64\n",
      "longueur     object\n",
      "nbPlaces      int64\n",
      "nbPortes      int64\n",
      "couleur      object\n",
      "occasion       bool\n",
      "prix          int64\n",
      "dtype: object\n"
     ]
    },
    {
     "data": {
      "text/html": [
       "<div>\n",
       "<style scoped>\n",
       "    .dataframe tbody tr th:only-of-type {\n",
       "        vertical-align: middle;\n",
       "    }\n",
       "\n",
       "    .dataframe tbody tr th {\n",
       "        vertical-align: top;\n",
       "    }\n",
       "\n",
       "    .dataframe thead th {\n",
       "        text-align: right;\n",
       "    }\n",
       "</style>\n",
       "<table border=\"1\" class=\"dataframe\">\n",
       "  <thead>\n",
       "    <tr style=\"text-align: right;\">\n",
       "      <th></th>\n",
       "      <th>marque</th>\n",
       "      <th>nom</th>\n",
       "      <th>puissance</th>\n",
       "      <th>longueur</th>\n",
       "      <th>nbPlaces</th>\n",
       "      <th>nbPortes</th>\n",
       "      <th>couleur</th>\n",
       "      <th>occasion</th>\n",
       "      <th>prix</th>\n",
       "    </tr>\n",
       "  </thead>\n",
       "  <tbody>\n",
       "    <tr>\n",
       "      <th>208</th>\n",
       "      <td>Ford</td>\n",
       "      <td>Mondeo 1.8</td>\n",
       "      <td>125</td>\n",
       "      <td>longue</td>\n",
       "      <td>5</td>\n",
       "      <td>5</td>\n",
       "      <td>gris</td>\n",
       "      <td>False</td>\n",
       "      <td>23900</td>\n",
       "    </tr>\n",
       "    <tr>\n",
       "      <th>237</th>\n",
       "      <td>BMW</td>\n",
       "      <td>M5</td>\n",
       "      <td>507</td>\n",
       "      <td>très longue</td>\n",
       "      <td>5</td>\n",
       "      <td>5</td>\n",
       "      <td>gris</td>\n",
       "      <td>True</td>\n",
       "      <td>66360</td>\n",
       "    </tr>\n",
       "    <tr>\n",
       "      <th>167</th>\n",
       "      <td>Lancia</td>\n",
       "      <td>Ypsilon 1.4 16V</td>\n",
       "      <td>90</td>\n",
       "      <td>courte</td>\n",
       "      <td>5</td>\n",
       "      <td>3</td>\n",
       "      <td>gris</td>\n",
       "      <td>False</td>\n",
       "      <td>13500</td>\n",
       "    </tr>\n",
       "    <tr>\n",
       "      <th>40</th>\n",
       "      <td>Volkswagen</td>\n",
       "      <td>Golf 2.0 FSI</td>\n",
       "      <td>150</td>\n",
       "      <td>moyenne</td>\n",
       "      <td>5</td>\n",
       "      <td>5</td>\n",
       "      <td>rouge</td>\n",
       "      <td>True</td>\n",
       "      <td>16029</td>\n",
       "    </tr>\n",
       "    <tr>\n",
       "      <th>76</th>\n",
       "      <td>Renault</td>\n",
       "      <td>Vel Satis 3.5 V6</td>\n",
       "      <td>245</td>\n",
       "      <td>très longue</td>\n",
       "      <td>5</td>\n",
       "      <td>5</td>\n",
       "      <td>bleu</td>\n",
       "      <td>False</td>\n",
       "      <td>49200</td>\n",
       "    </tr>\n",
       "  </tbody>\n",
       "</table>\n",
       "</div>"
      ],
      "text/plain": [
       "         marque               nom  puissance     longueur  nbPlaces  nbPortes  \\\n",
       "208        Ford        Mondeo 1.8        125       longue         5         5   \n",
       "237         BMW                M5        507  très longue         5         5   \n",
       "167      Lancia   Ypsilon 1.4 16V         90       courte         5         3   \n",
       "40   Volkswagen      Golf 2.0 FSI        150      moyenne         5         5   \n",
       "76      Renault  Vel Satis 3.5 V6        245  très longue         5         5   \n",
       "\n",
       "    couleur  occasion   prix  \n",
       "208    gris     False  23900  \n",
       "237    gris      True  66360  \n",
       "167    gris     False  13500  \n",
       "40    rouge      True  16029  \n",
       "76     bleu     False  49200  "
      ]
     },
     "execution_count": 84,
     "metadata": {},
     "output_type": "execute_result"
    }
   ],
   "source": [
    "print(catalogue.shape)\n",
    "print(catalogue.dtypes)\n",
    "catalogue.sample(5)"
   ]
  },
  {
   "cell_type": "markdown",
   "metadata": {},
   "source": [
    "<font color=\"blue\" size=5> Le dataset catalogue contient 270 lignes et 9 colonnes. Les données semblent être au bon format </font>"
   ]
  },
  {
   "cell_type": "code",
   "execution_count": null,
   "metadata": {},
   "outputs": [],
   "source": []
  },
  {
   "cell_type": "markdown",
   "metadata": {},
   "source": [
    "### Stats descriptive des variables numériques "
   ]
  },
  {
   "cell_type": "code",
   "execution_count": 85,
   "metadata": {},
   "outputs": [
    {
     "data": {
      "text/html": [
       "<div>\n",
       "<style scoped>\n",
       "    .dataframe tbody tr th:only-of-type {\n",
       "        vertical-align: middle;\n",
       "    }\n",
       "\n",
       "    .dataframe tbody tr th {\n",
       "        vertical-align: top;\n",
       "    }\n",
       "\n",
       "    .dataframe thead th {\n",
       "        text-align: right;\n",
       "    }\n",
       "</style>\n",
       "<table border=\"1\" class=\"dataframe\">\n",
       "  <thead>\n",
       "    <tr style=\"text-align: right;\">\n",
       "      <th></th>\n",
       "      <th>puissance</th>\n",
       "      <th>nbPlaces</th>\n",
       "      <th>nbPortes</th>\n",
       "      <th>prix</th>\n",
       "    </tr>\n",
       "  </thead>\n",
       "  <tbody>\n",
       "    <tr>\n",
       "      <th>count</th>\n",
       "      <td>270.000000</td>\n",
       "      <td>270.000000</td>\n",
       "      <td>270.000000</td>\n",
       "      <td>270.000000</td>\n",
       "    </tr>\n",
       "    <tr>\n",
       "      <th>mean</th>\n",
       "      <td>157.592593</td>\n",
       "      <td>5.222222</td>\n",
       "      <td>4.814815</td>\n",
       "      <td>26668.055556</td>\n",
       "    </tr>\n",
       "    <tr>\n",
       "      <th>std</th>\n",
       "      <td>90.551289</td>\n",
       "      <td>0.629707</td>\n",
       "      <td>0.580798</td>\n",
       "      <td>19050.121112</td>\n",
       "    </tr>\n",
       "    <tr>\n",
       "      <th>min</th>\n",
       "      <td>55.000000</td>\n",
       "      <td>5.000000</td>\n",
       "      <td>3.000000</td>\n",
       "      <td>7500.000000</td>\n",
       "    </tr>\n",
       "    <tr>\n",
       "      <th>25%</th>\n",
       "      <td>109.000000</td>\n",
       "      <td>5.000000</td>\n",
       "      <td>5.000000</td>\n",
       "      <td>16029.000000</td>\n",
       "    </tr>\n",
       "    <tr>\n",
       "      <th>50%</th>\n",
       "      <td>147.000000</td>\n",
       "      <td>5.000000</td>\n",
       "      <td>5.000000</td>\n",
       "      <td>20597.500000</td>\n",
       "    </tr>\n",
       "    <tr>\n",
       "      <th>75%</th>\n",
       "      <td>170.000000</td>\n",
       "      <td>5.000000</td>\n",
       "      <td>5.000000</td>\n",
       "      <td>30000.000000</td>\n",
       "    </tr>\n",
       "    <tr>\n",
       "      <th>max</th>\n",
       "      <td>507.000000</td>\n",
       "      <td>7.000000</td>\n",
       "      <td>5.000000</td>\n",
       "      <td>101300.000000</td>\n",
       "    </tr>\n",
       "  </tbody>\n",
       "</table>\n",
       "</div>"
      ],
      "text/plain": [
       "        puissance    nbPlaces    nbPortes           prix\n",
       "count  270.000000  270.000000  270.000000     270.000000\n",
       "mean   157.592593    5.222222    4.814815   26668.055556\n",
       "std     90.551289    0.629707    0.580798   19050.121112\n",
       "min     55.000000    5.000000    3.000000    7500.000000\n",
       "25%    109.000000    5.000000    5.000000   16029.000000\n",
       "50%    147.000000    5.000000    5.000000   20597.500000\n",
       "75%    170.000000    5.000000    5.000000   30000.000000\n",
       "max    507.000000    7.000000    5.000000  101300.000000"
      ]
     },
     "execution_count": 85,
     "metadata": {},
     "output_type": "execute_result"
    }
   ],
   "source": [
    "#statistiques descriptives des variables numériques\n",
    "catalogue.describe()"
   ]
  },
  {
   "cell_type": "markdown",
   "metadata": {},
   "source": [
    "### Stats descriptive des variables catégorielles"
   ]
  },
  {
   "cell_type": "code",
   "execution_count": 86,
   "metadata": {},
   "outputs": [
    {
     "data": {
      "text/html": [
       "<div>\n",
       "<style scoped>\n",
       "    .dataframe tbody tr th:only-of-type {\n",
       "        vertical-align: middle;\n",
       "    }\n",
       "\n",
       "    .dataframe tbody tr th {\n",
       "        vertical-align: top;\n",
       "    }\n",
       "\n",
       "    .dataframe thead th {\n",
       "        text-align: right;\n",
       "    }\n",
       "</style>\n",
       "<table border=\"1\" class=\"dataframe\">\n",
       "  <thead>\n",
       "    <tr style=\"text-align: right;\">\n",
       "      <th></th>\n",
       "      <th>marque</th>\n",
       "      <th>nom</th>\n",
       "      <th>longueur</th>\n",
       "      <th>couleur</th>\n",
       "      <th>occasion</th>\n",
       "    </tr>\n",
       "  </thead>\n",
       "  <tbody>\n",
       "    <tr>\n",
       "      <th>count</th>\n",
       "      <td>270</td>\n",
       "      <td>270</td>\n",
       "      <td>270</td>\n",
       "      <td>270</td>\n",
       "      <td>270</td>\n",
       "    </tr>\n",
       "    <tr>\n",
       "      <th>unique</th>\n",
       "      <td>21</td>\n",
       "      <td>32</td>\n",
       "      <td>4</td>\n",
       "      <td>5</td>\n",
       "      <td>2</td>\n",
       "    </tr>\n",
       "    <tr>\n",
       "      <th>top</th>\n",
       "      <td>Renault</td>\n",
       "      <td>S80 T6</td>\n",
       "      <td>longue</td>\n",
       "      <td>blanc</td>\n",
       "      <td>False</td>\n",
       "    </tr>\n",
       "    <tr>\n",
       "      <th>freq</th>\n",
       "      <td>40</td>\n",
       "      <td>10</td>\n",
       "      <td>90</td>\n",
       "      <td>54</td>\n",
       "      <td>160</td>\n",
       "    </tr>\n",
       "  </tbody>\n",
       "</table>\n",
       "</div>"
      ],
      "text/plain": [
       "         marque     nom longueur couleur occasion\n",
       "count       270     270      270     270      270\n",
       "unique       21      32        4       5        2\n",
       "top     Renault  S80 T6   longue   blanc    False\n",
       "freq         40      10       90      54      160"
      ]
     },
     "execution_count": 86,
     "metadata": {},
     "output_type": "execute_result"
    }
   ],
   "source": [
    "#statistiques descriptives des variables catégorielles\n",
    "catalogue.describe(exclude='number')"
   ]
  },
  {
   "cell_type": "markdown",
   "metadata": {},
   "source": [
    "# Détection de valeurs manquantes "
   ]
  },
  {
   "cell_type": "code",
   "execution_count": 87,
   "metadata": {},
   "outputs": [
    {
     "data": {
      "image/png": "[encoded data removed]",
      "text/plain": [
       "<Figure size 576x396 with 2 Axes>"
      ]
     },
     "metadata": {},
     "output_type": "display_data"
    }
   ],
   "source": [
    "colours =  [\"#ff9000\", \"#000099\"]\n",
    "sns.heatmap(catalogue.isnull() , cmap=sns.color_palette(colours))\n",
    "plt.title('Détection des valeurs manquantes par variables \\nbleu = not missing values / orange = missing values')\n",
    "plt.show()"
   ]
  },
  {
   "cell_type": "markdown",
   "metadata": {},
   "source": [
    "<font color=blue size=5> Aucune valeur manquante détectée </font>"
   ]
  },
  {
   "cell_type": "markdown",
   "metadata": {},
   "source": [
    "### Vérification des valeurs des différentes variables "
   ]
  },
  {
   "cell_type": "code",
   "execution_count": 88,
   "metadata": {},
   "outputs": [
    {
     "data": {
      "text/plain": [
       "array(['S80 T6', 'Touran 2.0 FSI', 'Polo 1.2 6V', 'New Beatle 1.8',\n",
       "       'Golf 2.0 FSI', 'Superb 2.8 V6', 'Toledo 1.6', '9.3 1.8T',\n",
       "       'Vel Satis 3.5 V6', 'Megane 2.0 16V', 'Laguna 2.0T', 'Espace 2.0T',\n",
       "       '1007 1.4', 'Primera 1.6', 'Maxima 3.0 V6', 'Almera 1.8',\n",
       "       'Copper 1.6 16V', 'S500', 'A200', 'Ypsilon 1.4 16V', 'Picanto 1.1',\n",
       "       'X-Type 2.5 V6', 'Matrix 1.6', 'FR-V 1.7', 'Mondeo 1.8',\n",
       "       'Croma 2.2', 'Cuore 1.0', 'Logan 1.6 MPI', 'M5', '120i',\n",
       "       'A3 2.0 FSI', 'A2 1.4'], dtype=object)"
      ]
     },
     "execution_count": 88,
     "metadata": {},
     "output_type": "execute_result"
    }
   ],
   "source": [
    "catalogue.nom.unique()"
   ]
  },
  {
   "cell_type": "code",
   "execution_count": 89,
   "metadata": {},
   "outputs": [
    {
     "data": {
      "text/plain": [
       "array([272, 150,  55, 110, 193, 102, 245, 135, 170, 165,  75, 109, 200,\n",
       "       115, 306, 136,  90,  65, 197, 103, 125, 147,  58, 507], dtype=int64)"
      ]
     },
     "execution_count": 89,
     "metadata": {},
     "output_type": "execute_result"
    }
   ],
   "source": [
    "catalogue.puissance.unique()"
   ]
  },
  {
   "cell_type": "code",
   "execution_count": 90,
   "metadata": {},
   "outputs": [
    {
     "data": {
      "text/plain": [
       "array(['très longue', 'longue', 'courte', 'moyenne'], dtype=object)"
      ]
     },
     "execution_count": 90,
     "metadata": {},
     "output_type": "execute_result"
    }
   ],
   "source": [
    "catalogue.longueur.unique()"
   ]
  },
  {
   "cell_type": "code",
   "execution_count": 91,
   "metadata": {},
   "outputs": [
    {
     "data": {
      "text/plain": [
       "array(['blanc', 'noir', 'rouge', 'gris', 'bleu'], dtype=object)"
      ]
     },
     "execution_count": 91,
     "metadata": {},
     "output_type": "execute_result"
    }
   ],
   "source": [
    "catalogue.couleur.unique()"
   ]
  },
  {
   "cell_type": "code",
   "execution_count": 92,
   "metadata": {},
   "outputs": [
    {
     "data": {
      "text/plain": [
       "array([5, 7], dtype=int64)"
      ]
     },
     "execution_count": 92,
     "metadata": {},
     "output_type": "execute_result"
    }
   ],
   "source": [
    "catalogue.nbPlaces.unique()"
   ]
  },
  {
   "cell_type": "code",
   "execution_count": 93,
   "metadata": {},
   "outputs": [
    {
     "data": {
      "text/plain": [
       "array([5, 3], dtype=int64)"
      ]
     },
     "execution_count": 93,
     "metadata": {},
     "output_type": "execute_result"
    }
   ],
   "source": [
    "catalogue.nbPortes.unique()"
   ]
  },
  {
   "cell_type": "code",
   "execution_count": 94,
   "metadata": {},
   "outputs": [
    {
     "data": {
      "text/plain": [
       "array([False,  True])"
      ]
     },
     "execution_count": 94,
     "metadata": {},
     "output_type": "execute_result"
    }
   ],
   "source": [
    "catalogue.occasion.unique()"
   ]
  },
  {
   "cell_type": "code",
   "execution_count": 95,
   "metadata": {},
   "outputs": [
    {
     "data": {
      "text/plain": [
       "array([ 50500,  35350,  27340,  19138,   8540,  12200,  18641,  26630,\n",
       "        16029,  22900,  31790,  18880,  27020,  38600,  34440,  49200,\n",
       "        15644,  22350,  19110,  27300,  21245,  30350,   9625,  13750,\n",
       "        18650,  30000,  16450,  12740,  18200,  70910, 101300,  25900,\n",
       "        18130,  13500,   9450,   8990,  37100,  25970,  15960,  19550,\n",
       "        16730,  23900,  17346,  24780,   8850,   7500,  66360,  94800,\n",
       "        25060,  35800,  19950,  28500,  12817,  18310], dtype=int64)"
      ]
     },
     "execution_count": 95,
     "metadata": {},
     "output_type": "execute_result"
    }
   ],
   "source": [
    "catalogue.prix.unique()"
   ]
  },
  {
   "cell_type": "markdown",
   "metadata": {},
   "source": [
    "<font color=\"blue\" size=5> Les données du catalogue sont propres </font>"
   ]
  },
  {
   "cell_type": "code",
   "execution_count": 96,
   "metadata": {},
   "outputs": [],
   "source": [
    "# catalogue.occasion = np.where(catalogue.occasion, 1,0)"
   ]
  },
  {
   "cell_type": "markdown",
   "metadata": {},
   "source": [
    "# Visualisation des données"
   ]
  },
  {
   "cell_type": "markdown",
   "metadata": {},
   "source": [
    "## Variables couleur, nbPortes, nbPlaces"
   ]
  },
  {
   "cell_type": "code",
   "execution_count": 97,
   "metadata": {},
   "outputs": [
    {
     "data": {
      "image/png": "[encoded data removed]",
      "text/plain": [
       "<Figure size 1440x504 with 1 Axes>"
      ]
     },
     "metadata": {},
     "output_type": "display_data"
    }
   ],
   "source": [
    "plt.figure(figsize=(20, 7))\n",
    "sns.countplot(data=catalogue, x=\"couleur\")\n",
    "plt.title(\"distribution des couleurs de véhicules\".upper())\n",
    "plt.show()"
   ]
  },
  {
   "cell_type": "markdown",
   "metadata": {},
   "source": [
    "<font color=\"blue\" size=5> On constate une parafaite distribution de la variable couleur </font>"
   ]
  },
  {
   "cell_type": "markdown",
   "metadata": {},
   "source": [
    "### Déterminer les véhicules (mêmes caractéristiques - sauf la couleur) qui ne sont pas en 5 coloris "
   ]
  },
  {
   "cell_type": "code",
   "execution_count": 98,
   "metadata": {},
   "outputs": [
    {
     "data": {
      "text/plain": [
       "True"
      ]
     },
     "execution_count": 98,
     "metadata": {},
     "output_type": "execute_result"
    }
   ],
   "source": [
    "#Vérifier si tous les véhicules sont effectivement en 5 coloris\n",
    "catalogue.groupby(catalogue.columns[catalogue.columns != \"couleur\"].tolist()).apply(lambda x : x.couleur.isin(catalogue.couleur.unique()).all()).all()"
   ]
  },
  {
   "cell_type": "code",
   "execution_count": 99,
   "metadata": {},
   "outputs": [
    {
     "data": {
      "text/plain": [
       "0"
      ]
     },
     "execution_count": 99,
     "metadata": {},
     "output_type": "execute_result"
    }
   ],
   "source": [
    "# Déterminer les types de véhicules ((mêmes caractéristiques - sauf la couleur)) qui ne sont pas en 5 coloris\n",
    "(catalogue.groupby(catalogue.columns[catalogue.columns != \"couleur\"].tolist()).count().reset_index().couleur != 5 ).sum()"
   ]
  },
  {
   "cell_type": "markdown",
   "metadata": {},
   "source": [
    "<font color=\"blue\" size=3> Tous les véhicules dans ce catalogue sont en 5 coloris. Nous décidons donc de supprimer la variable couleur pour le clustering car elle n'est pas discriminante. En effet, on pourrait proposer n'importe quel véhicule à un client si ce dernier avait la couleur comme critère de véhicule. </font>"
   ]
  },
  {
   "cell_type": "code",
   "execution_count": 100,
   "metadata": {},
   "outputs": [],
   "source": [
    "catalogue_uncolored = catalogue.groupby(catalogue.columns[catalogue.columns != \"couleur\"].tolist()).count().reset_index().drop(columns=\"couleur\")"
   ]
  },
  {
   "cell_type": "markdown",
   "metadata": {},
   "source": [
    "<font color=blue size=3>\n",
    "Ainsi, pour ce faire, nous regroupons les véhicules sur toutes les autres caractéristiques hors-mi la couleur puis nous retirons la variable couleur. Ce qui nous fournit, in fine, 54 lignes contre 270 initialement </font>"
   ]
  },
  {
   "cell_type": "code",
   "execution_count": 101,
   "metadata": {},
   "outputs": [
    {
     "name": "stdout",
     "output_type": "stream",
     "text": [
      "Les dimensions de notre nouveau dataframe :  (54, 8)\n"
     ]
    },
    {
     "data": {
      "text/html": [
       "<div>\n",
       "<style scoped>\n",
       "    .dataframe tbody tr th:only-of-type {\n",
       "        vertical-align: middle;\n",
       "    }\n",
       "\n",
       "    .dataframe tbody tr th {\n",
       "        vertical-align: top;\n",
       "    }\n",
       "\n",
       "    .dataframe thead th {\n",
       "        text-align: right;\n",
       "    }\n",
       "</style>\n",
       "<table border=\"1\" class=\"dataframe\">\n",
       "  <thead>\n",
       "    <tr style=\"text-align: right;\">\n",
       "      <th></th>\n",
       "      <th>marque</th>\n",
       "      <th>nom</th>\n",
       "      <th>puissance</th>\n",
       "      <th>longueur</th>\n",
       "      <th>nbPlaces</th>\n",
       "      <th>nbPortes</th>\n",
       "      <th>occasion</th>\n",
       "      <th>prix</th>\n",
       "    </tr>\n",
       "  </thead>\n",
       "  <tbody>\n",
       "    <tr>\n",
       "      <th>0</th>\n",
       "      <td>Audi</td>\n",
       "      <td>A2 1.4</td>\n",
       "      <td>75</td>\n",
       "      <td>courte</td>\n",
       "      <td>5</td>\n",
       "      <td>5</td>\n",
       "      <td>False</td>\n",
       "      <td>18310</td>\n",
       "    </tr>\n",
       "    <tr>\n",
       "      <th>1</th>\n",
       "      <td>Audi</td>\n",
       "      <td>A2 1.4</td>\n",
       "      <td>75</td>\n",
       "      <td>courte</td>\n",
       "      <td>5</td>\n",
       "      <td>5</td>\n",
       "      <td>True</td>\n",
       "      <td>12817</td>\n",
       "    </tr>\n",
       "    <tr>\n",
       "      <th>2</th>\n",
       "      <td>Audi</td>\n",
       "      <td>A3 2.0 FSI</td>\n",
       "      <td>150</td>\n",
       "      <td>moyenne</td>\n",
       "      <td>5</td>\n",
       "      <td>5</td>\n",
       "      <td>False</td>\n",
       "      <td>28500</td>\n",
       "    </tr>\n",
       "    <tr>\n",
       "      <th>3</th>\n",
       "      <td>Audi</td>\n",
       "      <td>A3 2.0 FSI</td>\n",
       "      <td>150</td>\n",
       "      <td>moyenne</td>\n",
       "      <td>5</td>\n",
       "      <td>5</td>\n",
       "      <td>True</td>\n",
       "      <td>19950</td>\n",
       "    </tr>\n",
       "    <tr>\n",
       "      <th>4</th>\n",
       "      <td>BMW</td>\n",
       "      <td>120i</td>\n",
       "      <td>150</td>\n",
       "      <td>moyenne</td>\n",
       "      <td>5</td>\n",
       "      <td>5</td>\n",
       "      <td>False</td>\n",
       "      <td>35800</td>\n",
       "    </tr>\n",
       "  </tbody>\n",
       "</table>\n",
       "</div>"
      ],
      "text/plain": [
       "  marque         nom  puissance longueur  nbPlaces  nbPortes  occasion   prix\n",
       "0   Audi      A2 1.4         75   courte         5         5     False  18310\n",
       "1   Audi      A2 1.4         75   courte         5         5      True  12817\n",
       "2   Audi  A3 2.0 FSI        150  moyenne         5         5     False  28500\n",
       "3   Audi  A3 2.0 FSI        150  moyenne         5         5      True  19950\n",
       "4    BMW        120i        150  moyenne         5         5     False  35800"
      ]
     },
     "execution_count": 101,
     "metadata": {},
     "output_type": "execute_result"
    }
   ],
   "source": [
    "print(\"Les dimensions de notre nouveau dataframe : \", catalogue_uncolored.shape)\n",
    "catalogue_uncolored.head(5)"
   ]
  },
  {
   "cell_type": "code",
   "execution_count": null,
   "metadata": {},
   "outputs": [],
   "source": []
  },
  {
   "cell_type": "code",
   "execution_count": 102,
   "metadata": {},
   "outputs": [
    {
     "data": {
      "image/png": "[encoded data removed]",
      "text/plain": [
       "<Figure size 1224x720 with 4 Axes>"
      ]
     },
     "metadata": {},
     "output_type": "display_data"
    }
   ],
   "source": [
    "fig, axs = plt.subplots(2, 2, figsize=(17, 10))\n",
    "\n",
    "axs[0,0].set_title(\"distribution du nombre de places\".upper())\n",
    "sns.countplot(data=catalogue_uncolored, x=\"nbPlaces\",  ax=axs[0,0])\n",
    "\n",
    "axs[0,1].set_title(\"distribution du nombre de portes\".upper())\n",
    "sns.countplot(data=catalogue_uncolored, x=\"nbPortes\", ax=axs[0,1])\n",
    "\n",
    "axs[1,0].set_title(\"distribution de la longueur (distingué par nbPlaces)\".upper())\n",
    "sns.countplot(data=catalogue_uncolored, x=\"longueur\", hue=\"nbPlaces\", ax=axs[1,0]) \n",
    "\n",
    "axs[1,1].set_title(\"distribution de la longueur (distingué par nbPortes)\".upper())\n",
    "sns.countplot(data=catalogue_uncolored, x=\"longueur\", hue=\"nbPortes\", ax=axs[1,1]) \n",
    "\n",
    "plt.subplots_adjust(wspace=0.1, hspace=0.25)\n",
    "plt.show()"
   ]
  },
  {
   "cell_type": "code",
   "execution_count": 103,
   "metadata": {},
   "outputs": [
    {
     "data": {
      "text/html": [
       "<div>\n",
       "<style scoped>\n",
       "    .dataframe tbody tr th:only-of-type {\n",
       "        vertical-align: middle;\n",
       "    }\n",
       "\n",
       "    .dataframe tbody tr th {\n",
       "        vertical-align: top;\n",
       "    }\n",
       "\n",
       "    .dataframe thead th {\n",
       "        text-align: right;\n",
       "    }\n",
       "</style>\n",
       "<table border=\"1\" class=\"dataframe\">\n",
       "  <thead>\n",
       "    <tr style=\"text-align: right;\">\n",
       "      <th></th>\n",
       "      <th>marque</th>\n",
       "      <th>nom</th>\n",
       "      <th>puissance</th>\n",
       "      <th>longueur</th>\n",
       "      <th>nbPlaces</th>\n",
       "      <th>nbPortes</th>\n",
       "      <th>occasion</th>\n",
       "      <th>prix</th>\n",
       "    </tr>\n",
       "  </thead>\n",
       "  <tbody>\n",
       "    <tr>\n",
       "      <th>14</th>\n",
       "      <td>Honda</td>\n",
       "      <td>FR-V 1.7</td>\n",
       "      <td>125</td>\n",
       "      <td>longue</td>\n",
       "      <td>7</td>\n",
       "      <td>5</td>\n",
       "      <td>False</td>\n",
       "      <td>19550</td>\n",
       "    </tr>\n",
       "    <tr>\n",
       "      <th>15</th>\n",
       "      <td>Hyundaï</td>\n",
       "      <td>Matrix 1.6</td>\n",
       "      <td>103</td>\n",
       "      <td>longue</td>\n",
       "      <td>7</td>\n",
       "      <td>5</td>\n",
       "      <td>False</td>\n",
       "      <td>15960</td>\n",
       "    </tr>\n",
       "    <tr>\n",
       "      <th>32</th>\n",
       "      <td>Renault</td>\n",
       "      <td>Espace 2.0T</td>\n",
       "      <td>165</td>\n",
       "      <td>longue</td>\n",
       "      <td>7</td>\n",
       "      <td>5</td>\n",
       "      <td>False</td>\n",
       "      <td>30350</td>\n",
       "    </tr>\n",
       "    <tr>\n",
       "      <th>33</th>\n",
       "      <td>Renault</td>\n",
       "      <td>Espace 2.0T</td>\n",
       "      <td>165</td>\n",
       "      <td>longue</td>\n",
       "      <td>7</td>\n",
       "      <td>5</td>\n",
       "      <td>True</td>\n",
       "      <td>21245</td>\n",
       "    </tr>\n",
       "    <tr>\n",
       "      <th>50</th>\n",
       "      <td>Volkswagen</td>\n",
       "      <td>Touran 2.0 FSI</td>\n",
       "      <td>150</td>\n",
       "      <td>longue</td>\n",
       "      <td>7</td>\n",
       "      <td>5</td>\n",
       "      <td>False</td>\n",
       "      <td>27340</td>\n",
       "    </tr>\n",
       "    <tr>\n",
       "      <th>51</th>\n",
       "      <td>Volkswagen</td>\n",
       "      <td>Touran 2.0 FSI</td>\n",
       "      <td>150</td>\n",
       "      <td>longue</td>\n",
       "      <td>7</td>\n",
       "      <td>5</td>\n",
       "      <td>True</td>\n",
       "      <td>19138</td>\n",
       "    </tr>\n",
       "  </tbody>\n",
       "</table>\n",
       "</div>"
      ],
      "text/plain": [
       "        marque             nom  puissance longueur  nbPlaces  nbPortes  \\\n",
       "14       Honda        FR-V 1.7        125   longue         7         5   \n",
       "15     Hyundaï      Matrix 1.6        103   longue         7         5   \n",
       "32     Renault     Espace 2.0T        165   longue         7         5   \n",
       "33     Renault     Espace 2.0T        165   longue         7         5   \n",
       "50  Volkswagen  Touran 2.0 FSI        150   longue         7         5   \n",
       "51  Volkswagen  Touran 2.0 FSI        150   longue         7         5   \n",
       "\n",
       "    occasion   prix  \n",
       "14     False  19550  \n",
       "15     False  15960  \n",
       "32     False  30350  \n",
       "33      True  21245  \n",
       "50     False  27340  \n",
       "51      True  19138  "
      ]
     },
     "execution_count": 103,
     "metadata": {},
     "output_type": "execute_result"
    }
   ],
   "source": [
    "catalogue_uncolored[catalogue_uncolored.nbPlaces==7]"
   ]
  },
  {
   "cell_type": "code",
   "execution_count": 104,
   "metadata": {},
   "outputs": [
    {
     "data": {
      "text/html": [
       "<div>\n",
       "<style scoped>\n",
       "    .dataframe tbody tr th:only-of-type {\n",
       "        vertical-align: middle;\n",
       "    }\n",
       "\n",
       "    .dataframe tbody tr th {\n",
       "        vertical-align: top;\n",
       "    }\n",
       "\n",
       "    .dataframe thead th {\n",
       "        text-align: right;\n",
       "    }\n",
       "</style>\n",
       "<table border=\"1\" class=\"dataframe\">\n",
       "  <thead>\n",
       "    <tr style=\"text-align: right;\">\n",
       "      <th></th>\n",
       "      <th>marque</th>\n",
       "      <th>nom</th>\n",
       "      <th>puissance</th>\n",
       "      <th>longueur</th>\n",
       "      <th>nbPlaces</th>\n",
       "      <th>nbPortes</th>\n",
       "      <th>occasion</th>\n",
       "      <th>prix</th>\n",
       "    </tr>\n",
       "  </thead>\n",
       "  <tbody>\n",
       "    <tr>\n",
       "      <th>9</th>\n",
       "      <td>Daihatsu</td>\n",
       "      <td>Cuore 1.0</td>\n",
       "      <td>58</td>\n",
       "      <td>courte</td>\n",
       "      <td>5</td>\n",
       "      <td>3</td>\n",
       "      <td>False</td>\n",
       "      <td>8850</td>\n",
       "    </tr>\n",
       "    <tr>\n",
       "      <th>19</th>\n",
       "      <td>Lancia</td>\n",
       "      <td>Ypsilon 1.4 16V</td>\n",
       "      <td>90</td>\n",
       "      <td>courte</td>\n",
       "      <td>5</td>\n",
       "      <td>3</td>\n",
       "      <td>False</td>\n",
       "      <td>13500</td>\n",
       "    </tr>\n",
       "    <tr>\n",
       "      <th>20</th>\n",
       "      <td>Lancia</td>\n",
       "      <td>Ypsilon 1.4 16V</td>\n",
       "      <td>90</td>\n",
       "      <td>courte</td>\n",
       "      <td>5</td>\n",
       "      <td>3</td>\n",
       "      <td>True</td>\n",
       "      <td>9450</td>\n",
       "    </tr>\n",
       "    <tr>\n",
       "      <th>48</th>\n",
       "      <td>Volkswagen</td>\n",
       "      <td>Polo 1.2 6V</td>\n",
       "      <td>55</td>\n",
       "      <td>courte</td>\n",
       "      <td>5</td>\n",
       "      <td>3</td>\n",
       "      <td>False</td>\n",
       "      <td>12200</td>\n",
       "    </tr>\n",
       "    <tr>\n",
       "      <th>49</th>\n",
       "      <td>Volkswagen</td>\n",
       "      <td>Polo 1.2 6V</td>\n",
       "      <td>55</td>\n",
       "      <td>courte</td>\n",
       "      <td>5</td>\n",
       "      <td>3</td>\n",
       "      <td>True</td>\n",
       "      <td>8540</td>\n",
       "    </tr>\n",
       "  </tbody>\n",
       "</table>\n",
       "</div>"
      ],
      "text/plain": [
       "        marque              nom  puissance longueur  nbPlaces  nbPortes  \\\n",
       "9     Daihatsu        Cuore 1.0         58   courte         5         3   \n",
       "19      Lancia  Ypsilon 1.4 16V         90   courte         5         3   \n",
       "20      Lancia  Ypsilon 1.4 16V         90   courte         5         3   \n",
       "48  Volkswagen      Polo 1.2 6V         55   courte         5         3   \n",
       "49  Volkswagen      Polo 1.2 6V         55   courte         5         3   \n",
       "\n",
       "    occasion   prix  \n",
       "9      False   8850  \n",
       "19     False  13500  \n",
       "20      True   9450  \n",
       "48     False  12200  \n",
       "49      True   8540  "
      ]
     },
     "execution_count": 104,
     "metadata": {},
     "output_type": "execute_result"
    }
   ],
   "source": [
    "catalogue_uncolored[catalogue_uncolored.nbPortes==3]"
   ]
  },
  {
   "cell_type": "markdown",
   "metadata": {},
   "source": [
    "<font color=blue size=4> \n",
    "On note des proportions très faibles des véhicules à 7 places ou des véhicules à 3 portes\n",
    "    \n",
    "Aussi, seuls les véhicules longs peuvent avoir 7 places et seuls les véhicules courts peuvent avoir 3 portes. \n",
    "</font>"
   ]
  },
  {
   "cell_type": "code",
   "execution_count": null,
   "metadata": {},
   "outputs": [],
   "source": []
  },
  {
   "cell_type": "markdown",
   "metadata": {},
   "source": [
    "## Les variables prix et puissance"
   ]
  },
  {
   "cell_type": "code",
   "execution_count": 105,
   "metadata": {},
   "outputs": [
    {
     "data": {
      "text/plain": [
       "[]"
      ]
     },
     "execution_count": 105,
     "metadata": {},
     "output_type": "execute_result"
    },
    {
     "data": {
      "image/png": "[encoded data removed]",
      "text/plain": [
       "<Figure size 1008x504 with 1 Axes>"
      ]
     },
     "metadata": {},
     "output_type": "display_data"
    }
   ],
   "source": [
    "plt.figure(figsize=(14,7))\n",
    "sns.scatterplot(data=catalogue_uncolored, x=\"puissance\", y=\"prix\", hue=\"longueur\")\n",
    "plt.title(\"Distribution du prix par rapport à la puissance\")\n",
    "plt.plot()"
   ]
  },
  {
   "cell_type": "code",
   "execution_count": 106,
   "metadata": {},
   "outputs": [
    {
     "data": {
      "image/png": "[encoded data removed]",
      "text/plain": [
       "<Figure size 864x504 with 2 Axes>"
      ]
     },
     "metadata": {},
     "output_type": "display_data"
    }
   ],
   "source": [
    "plt.figure(figsize=(12,7))\n",
    "plt.title(\"Corrélation entre les variables numériques\".upper())\n",
    "mask = np.triu(np.ones_like(catalogue_uncolored.corr())) \n",
    "sns.heatmap(catalogue_uncolored.corr().abs(), annot=True, mask=mask, vmin=0, vmax=1)\n",
    "plt.show()"
   ]
  },
  {
   "cell_type": "markdown",
   "metadata": {},
   "source": [
    "<font color=blue size=5> Les variables prix et puissance sont fortement correlées. </font>"
   ]
  },
  {
   "cell_type": "code",
   "execution_count": null,
   "metadata": {},
   "outputs": [],
   "source": []
  },
  {
   "cell_type": "code",
   "execution_count": 107,
   "metadata": {
    "scrolled": true
   },
   "outputs": [
    {
     "data": {
      "text/plain": [
       "False    0.592593\n",
       "True     0.407407\n",
       "Name: occasion, dtype: float64"
      ]
     },
     "execution_count": 107,
     "metadata": {},
     "output_type": "execute_result"
    }
   ],
   "source": [
    "catalogue_uncolored.occasion.value_counts(True)"
   ]
  },
  {
   "cell_type": "markdown",
   "metadata": {},
   "source": [
    "<font color=blue size=5> 40% des lignes environ désignent des véhicules d'occasion tandis que près de 60% ne sont pas d'ocassion. </font>"
   ]
  },
  {
   "cell_type": "markdown",
   "metadata": {},
   "source": [
    "<font color=blue size=5> Pour la majorité des véhicules du catalogue, il existe une neuve et une d'occasion </font>"
   ]
  },
  {
   "cell_type": "code",
   "execution_count": 108,
   "metadata": {},
   "outputs": [
    {
     "name": "stdout",
     "output_type": "stream",
     "text": [
      "81% des lignes désignent des véhicules qui ont une version neuve et une d'occasion\n"
     ]
    }
   ],
   "source": [
    "tmp = catalogue_uncolored.groupby(catalogue_uncolored.columns[~catalogue_uncolored.columns.isin([\"occasion\", \"prix\"])].tolist()).count().reset_index() \n",
    "print(f\"{(tmp[tmp.occasion==2].shape[0]*2 / catalogue_uncolored.shape[0])*100:.0f}% des lignes désignent des véhicules qui ont une version neuve et une d'occasion\")"
   ]
  },
  {
   "cell_type": "markdown",
   "metadata": {},
   "source": [
    "<font color=blue size=5> 81% des lignes désignent des véhicules qui ont une version neuve et une d'occasion </font>"
   ]
  },
  {
   "cell_type": "code",
   "execution_count": 109,
   "metadata": {},
   "outputs": [
    {
     "name": "stdout",
     "output_type": "stream",
     "text": [
      "Les lignes désignant des véhicules qui n'ont qu'une valeur pour la variable occasion\n"
     ]
    },
    {
     "data": {
      "text/html": [
       "<div>\n",
       "<style scoped>\n",
       "    .dataframe tbody tr th:only-of-type {\n",
       "        vertical-align: middle;\n",
       "    }\n",
       "\n",
       "    .dataframe tbody tr th {\n",
       "        vertical-align: top;\n",
       "    }\n",
       "\n",
       "    .dataframe thead th {\n",
       "        text-align: right;\n",
       "    }\n",
       "</style>\n",
       "<table border=\"1\" class=\"dataframe\">\n",
       "  <thead>\n",
       "    <tr style=\"text-align: right;\">\n",
       "      <th></th>\n",
       "      <th>marque</th>\n",
       "      <th>nom</th>\n",
       "      <th>puissance</th>\n",
       "      <th>longueur</th>\n",
       "      <th>nbPlaces</th>\n",
       "      <th>nbPortes</th>\n",
       "      <th>occasion</th>\n",
       "      <th>prix</th>\n",
       "    </tr>\n",
       "  </thead>\n",
       "  <tbody>\n",
       "    <tr>\n",
       "      <th>8</th>\n",
       "      <td>Dacia</td>\n",
       "      <td>Logan 1.6 MPI</td>\n",
       "      <td>90</td>\n",
       "      <td>moyenne</td>\n",
       "      <td>5</td>\n",
       "      <td>5</td>\n",
       "      <td>False</td>\n",
       "      <td>7500</td>\n",
       "    </tr>\n",
       "    <tr>\n",
       "      <th>9</th>\n",
       "      <td>Daihatsu</td>\n",
       "      <td>Cuore 1.0</td>\n",
       "      <td>58</td>\n",
       "      <td>courte</td>\n",
       "      <td>5</td>\n",
       "      <td>3</td>\n",
       "      <td>False</td>\n",
       "      <td>8850</td>\n",
       "    </tr>\n",
       "    <tr>\n",
       "      <th>14</th>\n",
       "      <td>Honda</td>\n",
       "      <td>FR-V 1.7</td>\n",
       "      <td>125</td>\n",
       "      <td>longue</td>\n",
       "      <td>7</td>\n",
       "      <td>5</td>\n",
       "      <td>False</td>\n",
       "      <td>19550</td>\n",
       "    </tr>\n",
       "    <tr>\n",
       "      <th>15</th>\n",
       "      <td>Hyundaï</td>\n",
       "      <td>Matrix 1.6</td>\n",
       "      <td>103</td>\n",
       "      <td>longue</td>\n",
       "      <td>7</td>\n",
       "      <td>5</td>\n",
       "      <td>False</td>\n",
       "      <td>15960</td>\n",
       "    </tr>\n",
       "    <tr>\n",
       "      <th>18</th>\n",
       "      <td>Kia</td>\n",
       "      <td>Picanto 1.1</td>\n",
       "      <td>65</td>\n",
       "      <td>courte</td>\n",
       "      <td>5</td>\n",
       "      <td>5</td>\n",
       "      <td>False</td>\n",
       "      <td>8990</td>\n",
       "    </tr>\n",
       "    <tr>\n",
       "      <th>27</th>\n",
       "      <td>Nissan</td>\n",
       "      <td>Almera 1.8</td>\n",
       "      <td>115</td>\n",
       "      <td>moyenne</td>\n",
       "      <td>5</td>\n",
       "      <td>5</td>\n",
       "      <td>False</td>\n",
       "      <td>16450</td>\n",
       "    </tr>\n",
       "    <tr>\n",
       "      <th>28</th>\n",
       "      <td>Nissan</td>\n",
       "      <td>Maxima 3.0 V6</td>\n",
       "      <td>200</td>\n",
       "      <td>très longue</td>\n",
       "      <td>5</td>\n",
       "      <td>5</td>\n",
       "      <td>False</td>\n",
       "      <td>30000</td>\n",
       "    </tr>\n",
       "    <tr>\n",
       "      <th>29</th>\n",
       "      <td>Nissan</td>\n",
       "      <td>Primera 1.6</td>\n",
       "      <td>109</td>\n",
       "      <td>longue</td>\n",
       "      <td>5</td>\n",
       "      <td>5</td>\n",
       "      <td>False</td>\n",
       "      <td>18650</td>\n",
       "    </tr>\n",
       "    <tr>\n",
       "      <th>42</th>\n",
       "      <td>Seat</td>\n",
       "      <td>Toledo 1.6</td>\n",
       "      <td>102</td>\n",
       "      <td>longue</td>\n",
       "      <td>5</td>\n",
       "      <td>5</td>\n",
       "      <td>False</td>\n",
       "      <td>18880</td>\n",
       "    </tr>\n",
       "    <tr>\n",
       "      <th>43</th>\n",
       "      <td>Skoda</td>\n",
       "      <td>Superb 2.8 V6</td>\n",
       "      <td>193</td>\n",
       "      <td>très longue</td>\n",
       "      <td>5</td>\n",
       "      <td>5</td>\n",
       "      <td>False</td>\n",
       "      <td>31790</td>\n",
       "    </tr>\n",
       "  </tbody>\n",
       "</table>\n",
       "</div>"
      ],
      "text/plain": [
       "      marque            nom  puissance     longueur  nbPlaces  nbPortes  \\\n",
       "8      Dacia  Logan 1.6 MPI         90      moyenne         5         5   \n",
       "9   Daihatsu      Cuore 1.0         58       courte         5         3   \n",
       "14     Honda       FR-V 1.7        125       longue         7         5   \n",
       "15   Hyundaï     Matrix 1.6        103       longue         7         5   \n",
       "18       Kia    Picanto 1.1         65       courte         5         5   \n",
       "27    Nissan     Almera 1.8        115      moyenne         5         5   \n",
       "28    Nissan  Maxima 3.0 V6        200  très longue         5         5   \n",
       "29    Nissan    Primera 1.6        109       longue         5         5   \n",
       "42      Seat     Toledo 1.6        102       longue         5         5   \n",
       "43     Skoda  Superb 2.8 V6        193  très longue         5         5   \n",
       "\n",
       "    occasion   prix  \n",
       "8      False   7500  \n",
       "9      False   8850  \n",
       "14     False  19550  \n",
       "15     False  15960  \n",
       "18     False   8990  \n",
       "27     False  16450  \n",
       "28     False  30000  \n",
       "29     False  18650  \n",
       "42     False  18880  \n",
       "43     False  31790  "
      ]
     },
     "execution_count": 109,
     "metadata": {},
     "output_type": "execute_result"
    }
   ],
   "source": [
    "# Les lignes désignant des véhicules qui n'ont qu'une valeur pour la variable occasion\n",
    "print(\"Les lignes désignant des véhicules qui n'ont qu'une valeur pour la variable occasion\")\n",
    "catalogue_uncolored[~catalogue_uncolored.nom.isin(catalogue_uncolored[catalogue_uncolored.nom.duplicated()].nom)]"
   ]
  },
  {
   "cell_type": "markdown",
   "metadata": {},
   "source": [
    "<font color=blue size=5> Tandis que les 19% restant sont tous des véhicules neufs </font>"
   ]
  },
  {
   "cell_type": "code",
   "execution_count": 110,
   "metadata": {},
   "outputs": [
    {
     "data": {
      "image/png": "[encoded data removed]",
      "text/plain": [
       "<Figure size 1008x504 with 1 Axes>"
      ]
     },
     "metadata": {},
     "output_type": "display_data"
    }
   ],
   "source": [
    "# Filtre : obtenir uniquement les véhicules qui ont un modèle d'occasion et un autre neuf\n",
    "occasions = catalogue_uncolored[catalogue_uncolored.nom.isin(catalogue_uncolored[catalogue_uncolored.nom.duplicated()].nom)]\n",
    "\n",
    "# afficher le graphique des prix distingué par la variable catégorie\n",
    "plt.figure(figsize=(14,7))\n",
    "sns.lineplot(data=occasions, x=\"nom\", y=\"prix\", hue=\"occasion\")\n",
    "plt.title(\"Dsitribution des véhicules ayant un identique d'occasion selon le prix \".upper())\n",
    "plt.show()"
   ]
  },
  {
   "cell_type": "markdown",
   "metadata": {},
   "source": [
    "<font color=blue size=4>Nous pouvons aussi constater que la valeur de la variable occasion a une influence sur le prix d'un même modèle de véhicule. En effet, pour deux véhicules identiques sur les autres caractéristiques (hors-mi  prix et occasion), le prix sera moindre pour celui qui est d'occasion. \n",
    "</font>"
   ]
  },
  {
   "cell_type": "markdown",
   "metadata": {},
   "source": [
    "<font color=blue size=4> Vu l'influence qu'à la variable occasion sur le prix, nous décidons, pour le clustering, de séparer notre dataframe en deux groupes : celui des véhicules d'occasion et celui des véhicules qui sont neufs (pas d'occasion) </font>"
   ]
  },
  {
   "cell_type": "code",
   "execution_count": 111,
   "metadata": {},
   "outputs": [],
   "source": [
    "catalogue_occasion = catalogue_uncolored[catalogue_uncolored.occasion].drop(columns=[\"occasion\"])\n",
    "catalogue_neuf = catalogue_uncolored[~catalogue_uncolored.occasion].drop(columns=[\"occasion\"]) "
   ]
  },
  {
   "cell_type": "code",
   "execution_count": 112,
   "metadata": {},
   "outputs": [
    {
     "name": "stdout",
     "output_type": "stream",
     "text": [
      "Les véhicules neufs : \n",
      "shape : (32, 7)\n",
      "Nombre de nom unique : 32\n",
      "==============================\n",
      "Les véhicules d'occasion : \n",
      "shape : (22, 7)\n",
      "Nombre de nom unique : 22\n"
     ]
    }
   ],
   "source": [
    "print(\"Les véhicules neufs : \")\n",
    "print(\"shape :\", catalogue_neuf.shape)\n",
    "print(\"Nombre de nom unique :\", catalogue_neuf.nom.nunique())\n",
    "\n",
    "print('='*30)\n",
    "\n",
    "print(\"Les véhicules d'occasion : \")\n",
    "print(\"shape :\", catalogue_occasion.shape)\n",
    "print(\"Nombre de nom unique :\", catalogue_occasion.nom.nunique())\n"
   ]
  },
  {
   "cell_type": "markdown",
   "metadata": {},
   "source": [
    "<font color=blue size=4> En effectuant ces opérations, la variable nom n'est plus en doublon dans l'un ou l'autre des dataframe. Elle se comporte comme un simple identifiant de chaque ligne. **Nous pouvons donc la supprimer des dataframes** </font>"
   ]
  },
  {
   "cell_type": "code",
   "execution_count": 113,
   "metadata": {},
   "outputs": [],
   "source": [
    "catalogue_neuf = catalogue_neuf.drop(columns=\"nom\")\n",
    "catalogue_occasion = catalogue_occasion.drop(columns=\"nom\")"
   ]
  },
  {
   "cell_type": "markdown",
   "metadata": {},
   "source": [
    "# <font color=\"blue\"> Finalement, pour la détermination des catégories de véhicules, nous utiliserons que les variables suivantes : \n",
    "- la marque\n",
    "- la puissance\n",
    "- la longueur\n",
    "- le nombre de places \n",
    "- le nombre de portes\n",
    "- le prix\n",
    " </font>"
   ]
  },
  {
   "cell_type": "code",
   "execution_count": 114,
   "metadata": {},
   "outputs": [],
   "source": [
    "## Save the catalogue dataframe before clustering \n",
    "with open(\"catalogue_uncolored.pkl\", 'wb') as file:\n",
    "    pickle.dump(catalogue_uncolored, file)"
   ]
  },
  {
   "cell_type": "code",
   "execution_count": 115,
   "metadata": {},
   "outputs": [],
   "source": [
    "catalogue_uncolored.to_csv('catalogue_uncolored.csv')"
   ]
  },
  {
   "cell_type": "markdown",
   "metadata": {},
   "source": [
    "# Clustering "
   ]
  },
  {
   "cell_type": "code",
   "execution_count": 116,
   "metadata": {},
   "outputs": [],
   "source": [
    "var = [\"marque\", \"puissance\", \"longueur\", \"nbPlaces\", \"nbPortes\", \"prix\"]\n",
    "X_catalogue_neuf = catalogue_neuf[var].copy() \n",
    "X_catalogue_occasion = catalogue_occasion[var].copy() \n",
    "\n",
    "column_transformer = ColumnTransformer([\n",
    "    ('ohe', OneHotEncoder(handle_unknown=\"error\"), [\"marque\", \"longueur\"]), \n",
    "    ('ohe_binary', OneHotEncoder(drop = \"if_binary\", handle_unknown=\"error\"), [\"nbPlaces\", \"nbPortes\"]),\n",
    "    ('scaling', StandardScaler(), [\"puissance\", \"prix\"])\n",
    "])\n",
    "\n",
    "pipe_ohe_scaling_catalogue = Pipeline(steps=[\n",
    "    ('ohe_and_scaling', column_transformer) \n",
    "])\n",
    "\n",
    "X_catalogue_neuf = pipe_ohe_scaling_catalogue.fit_transform(X_catalogue_neuf) \n",
    "X_catalogue_occasion = pipe_ohe_scaling_catalogue.fit_transform(X_catalogue_occasion) \n",
    "\n",
    "# with open('data_preprocessor_catalogue.pkl', 'wb') as file:\n",
    "#     pickle.dump(pipe_ohe_scaling_catalogue, file)"
   ]
  },
  {
   "cell_type": "code",
   "execution_count": 117,
   "metadata": {},
   "outputs": [
    {
     "name": "stdout",
     "output_type": "stream",
     "text": [
      "(32, 29)\n",
      "(22, 21)\n"
     ]
    }
   ],
   "source": [
    "print(X_catalogue_neuf.shape)\n",
    "print(X_catalogue_occasion.shape)"
   ]
  },
  {
   "cell_type": "markdown",
   "metadata": {},
   "source": [
    "<font color=blue size=3>\n",
    "    Ne sachant pas à priori le nombre de regroupement des véhicules, nous choisissons de faire un clustering hiérarchique ascendant afin d'obtenir un dendogramme et identifier le nombre de regroupement naturel.\n",
    "</font>"
   ]
  },
  {
   "cell_type": "code",
   "execution_count": 118,
   "metadata": {},
   "outputs": [
    {
     "data": {
      "image/png": "[encoded data removed]",
      "text/plain": [
       "<Figure size 576x396 with 1 Axes>"
      ]
     },
     "metadata": {},
     "output_type": "display_data"
    }
   ],
   "source": [
    "hierarchy.dendrogram(hierarchy.linkage(pdist(X_catalogue_neuf.todense()) , method='ward'), color_threshold=0.1)\n",
    "plt.axhline(4, c=\"r\") \n",
    "plt.show()"
   ]
  },
  {
   "cell_type": "code",
   "execution_count": 119,
   "metadata": {},
   "outputs": [
    {
     "data": {
      "image/png": "[encoded data removed]",
      "text/plain": [
       "<Figure size 576x396 with 1 Axes>"
      ]
     },
     "metadata": {},
     "output_type": "display_data"
    }
   ],
   "source": [
    "hierarchy.dendrogram(hierarchy.linkage(pdist(X_catalogue_occasion.todense()) , method='ward'), color_threshold=0.1)\n",
    "plt.axhline(4, c=\"r\") \n",
    "plt.show()"
   ]
  },
  {
   "cell_type": "markdown",
   "metadata": {},
   "source": [
    "<font color=blue size=4> Nous admettons la coupure à l'ordonée égale à 4 et supposons que les véhicules sont regroupés selon 5 groupes et cela peu importe qu'on ait des véhicules neufs ou pas </font>"
   ]
  },
  {
   "cell_type": "code",
   "execution_count": 120,
   "metadata": {},
   "outputs": [],
   "source": [
    "catalogue_uncolored.occasion = np.where(catalogue_uncolored.occasion, 1,0)"
   ]
  },
  {
   "cell_type": "code",
   "execution_count": 121,
   "metadata": {},
   "outputs": [
    {
     "data": {
      "image/png": "[encoded data removed]",
      "text/plain": [
       "<Figure size 576x396 with 1 Axes>"
      ]
     },
     "metadata": {},
     "output_type": "display_data"
    }
   ],
   "source": [
    "X_catalogue_uncolored = catalogue_uncolored[var + ['occasion']].copy()\n",
    "X_catalogue_uncolored = pipe_ohe_scaling_catalogue.fit_transform(X_catalogue_uncolored) \n",
    "\n",
    "#plot dendogram\n",
    "hierarchy.dendrogram(hierarchy.linkage(pdist(X_catalogue_uncolored.todense()) , method='ward'), color_threshold=0.1)\n",
    "plt.axhline(5, c=\"r\") \n",
    "plt.show()"
   ]
  },
  {
   "cell_type": "markdown",
   "metadata": {},
   "source": [
    "<font color=blue size=4> \n",
    "Ainsi, en ne séparant pas les véhicules neufs des occasions, nous admettons également 5 groupes de véhicules. Par conséquent nous décidons de continuer à travailler avec ce dataframe contenant la variable couleur. Néanmoins nous faisons le choix de ne pas tenir compte du nom du véhicule lors du clustering.\n",
    "</font>"
   ]
  },
  {
   "cell_type": "markdown",
   "metadata": {},
   "source": [
    "# Algorithmes de clustering"
   ]
  },
  {
   "cell_type": "markdown",
   "metadata": {},
   "source": [
    "## Kmeans"
   ]
  },
  {
   "cell_type": "markdown",
   "metadata": {},
   "source": [
    "#### Mise en oeuvre de la méthode elbow "
   ]
  },
  {
   "cell_type": "code",
   "execution_count": 122,
   "metadata": {},
   "outputs": [
    {
     "data": {
      "image/png": "[encoded data removed]",
      "text/plain": [
       "<Figure size 1080x504 with 1 Axes>"
      ]
     },
     "metadata": {},
     "output_type": "display_data"
    }
   ],
   "source": [
    "nb_clusters = 13\n",
    "inertia = []\n",
    "kmeans_instances = []\n",
    "for k in range(1, nb_clusters):\n",
    "    kmeans_instances.append(KMeans(n_clusters=k, random_state=42, algorithm=\"auto\"))\n",
    "    kmeans_instances[k-1].fit_transform(X_catalogue_uncolored)\n",
    "    inertia.append(np.sqrt(kmeans_instances[k-1].inertia_))\n",
    "\n",
    "plt.figure(figsize=(15, 7))\n",
    "plt.title(\"L'évolution de l'inertie par rapport au nombre de clusters\".upper())\n",
    "plt.plot(range(1, nb_clusters), inertia, marker='o');\n",
    "plt.grid(True)\n",
    "plt.xlabel('k')\n",
    "plt.ylabel('inertia');\n",
    "# plt.text(7.2, 4.5393, \"7ith\", ) \n",
    "# plt.axhline(4.9, c=\"r\") \n",
    "# plt.axvline(5, c=\"r\")"
   ]
  },
  {
   "cell_type": "code",
   "execution_count": 123,
   "metadata": {},
   "outputs": [
    {
     "data": {
      "image/png": "[encoded data removed]",
      "text/plain": [
       "<Figure size 576x396 with 2 Axes>"
      ]
     },
     "metadata": {},
     "output_type": "display_data"
    },
    {
     "data": {
      "text/plain": [
       "<AxesSubplot:title={'center':'Distortion Score Elbow for KMeans Clustering'}, xlabel='k', ylabel='distortion score'>"
      ]
     },
     "execution_count": 123,
     "metadata": {},
     "output_type": "execute_result"
    }
   ],
   "source": [
    "model = KMeans()\n",
    "visualizer = KElbowVisualizer(model, k=(2,12))\n",
    "\n",
    "visualizer.fit(X_catalogue_uncolored.toarray())       \n",
    "visualizer.show()"
   ]
  },
  {
   "cell_type": "markdown",
   "metadata": {},
   "source": [
    " <font color=blue size=4> En analysant le graphique ci-dessus, nous pouvons dire que le nombre de cluster optimal se situe entre 4 et 7 : plus précisément égal à 5 grâce à la méthode elbow</font>\n"
   ]
  },
  {
   "cell_type": "markdown",
   "metadata": {},
   "source": [
    "# Agglomerative clustering"
   ]
  },
  {
   "cell_type": "code",
   "execution_count": 124,
   "metadata": {},
   "outputs": [],
   "source": [
    "ac_4 = AgglomerativeClustering(n_clusters=4, affinity=\"euclidean\", linkage=\"ward\", compute_distances=True).fit(X_catalogue_uncolored.toarray())\n",
    "ac_5 = AgglomerativeClustering(n_clusters=5, affinity=\"euclidean\", linkage=\"ward\", compute_distances=True).fit(X_catalogue_uncolored.toarray())\n",
    "ac_6 = AgglomerativeClustering(n_clusters=6, affinity=\"euclidean\", linkage=\"ward\", compute_distances=True).fit(X_catalogue_uncolored.toarray())\n",
    "ac_7 = AgglomerativeClustering(n_clusters=7, affinity=\"euclidean\", linkage=\"ward\", compute_distances=True).fit(X_catalogue_uncolored.toarray())\n",
    "ac_8 = AgglomerativeClustering(n_clusters=8, affinity=\"euclidean\", linkage=\"ward\", compute_distances=True).fit(X_catalogue_uncolored.toarray())"
   ]
  },
  {
   "cell_type": "code",
   "execution_count": 125,
   "metadata": {},
   "outputs": [
    {
     "data": {
      "image/png": "[encoded data removed]",
      "text/plain": [
       "<Figure size 1440x720 with 3 Axes>"
      ]
     },
     "metadata": {},
     "output_type": "display_data"
    }
   ],
   "source": [
    "def plot_dendrogram(model, ax, **kwargs):\n",
    "    # Create linkage matrix and then plot the dendrogram\n",
    "\n",
    "    # create the counts of samples under each node\n",
    "    counts = np.zeros(model.children_.shape[0])\n",
    "    n_samples = len(model.labels_)\n",
    "    for i, merge in enumerate(model.children_):\n",
    "        current_count = 0\n",
    "        for child_idx in merge:\n",
    "            if child_idx < n_samples:\n",
    "                current_count += 1  # leaf node\n",
    "            else:\n",
    "                current_count += counts[child_idx - n_samples]\n",
    "        counts[i] = current_count\n",
    "\n",
    "    linkage_matrix = np.column_stack(\n",
    "        [model.children_, model.distances_, counts]\n",
    "    ).astype(float)\n",
    "\n",
    "    # Plot the corresponding dendrogram\n",
    "    hierarchy.dendrogram(linkage_matrix, ax=ax,  **kwargs) \n",
    "\n",
    "fig, axs = plt.subplots(1, 3, figsize=(20, 10))\n",
    "\n",
    "plot_dendrogram(ac_4, ax=axs[0], truncate_mode=\"level\") \n",
    "plot_dendrogram(ac_5, ax=axs[1], truncate_mode=\"level\")\n",
    "plot_dendrogram(ac_6, ax=axs[2], truncate_mode=\"level\") "
   ]
  },
  {
   "cell_type": "markdown",
   "metadata": {},
   "source": [
    "# Silhouette"
   ]
  },
  {
   "cell_type": "markdown",
   "metadata": {},
   "source": [
    "## Silhouette - K-Means"
   ]
  },
  {
   "cell_type": "code",
   "execution_count": 126,
   "metadata": {},
   "outputs": [
    {
     "data": {
      "image/png": "[encoded data removed]",
      "text/plain": [
       "<Figure size 576x396 with 1 Axes>"
      ]
     },
     "metadata": {},
     "output_type": "display_data"
    }
   ],
   "source": [
    "range_n_clusters = range(4,10)\n",
    "silhouette_avg = [] \n",
    "for num_clusters in range_n_clusters: \n",
    "    cluster_labels = kmeans_instances[num_clusters-1].labels_\n",
    "     # silhouette score\n",
    "    silhouette_avg.append(silhouette_score(X_catalogue_uncolored, cluster_labels))\n",
    "\n",
    "plt.plot(range_n_clusters,silhouette_avg,'bx-')\n",
    "plt.xlabel('Valeur de K') \n",
    "plt.ylabel('score ') \n",
    "plt.title('Evolution de la silouhette pour le k idéal') \n",
    "plt.grid(True)\n",
    "plt.show()"
   ]
  },
  {
   "cell_type": "markdown",
   "metadata": {},
   "source": [
    "## Silhouette - Agglomerative clustering"
   ]
  },
  {
   "cell_type": "code",
   "execution_count": 127,
   "metadata": {},
   "outputs": [
    {
     "data": {
      "image/png": "[encoded data removed]",
      "text/plain": [
       "<Figure size 576x396 with 1 Axes>"
      ]
     },
     "metadata": {},
     "output_type": "display_data"
    }
   ],
   "source": [
    "k = range(4, 9)\n",
    "\n",
    "ac_list = [ac_4 ,ac_5, ac_6, ac_7, ac_8]\n",
    "\n",
    "# Appending the silhouette scores\n",
    "silhouette_scores = {}\n",
    "silhouette_scores.fromkeys(k)\n",
    "\n",
    "for i,j in enumerate(k):\n",
    "    silhouette_scores[j] = silhouette_score(X_catalogue_uncolored, ac_list[i].labels_) \n",
    "# Plotting\n",
    "y = list(silhouette_scores.values())\n",
    "plt.plot(k, y)\n",
    "plt.grid(True)\n",
    "plt.xlabel('Number of clusters', fontsize = 20)\n",
    "plt.ylabel('score', fontsize = 20)\n",
    "plt.show()"
   ]
  },
  {
   "cell_type": "markdown",
   "metadata": {},
   "source": [
    "### Plot des résultats des deux méthodes (Kmeans & Agglomerative Clusrering) sur le même graphique"
   ]
  },
  {
   "cell_type": "code",
   "execution_count": 128,
   "metadata": {},
   "outputs": [
    {
     "data": {
      "image/png": "[encoded data removed]",
      "text/plain": [
       "<Figure size 1080x504 with 1 Axes>"
      ]
     },
     "metadata": {},
     "output_type": "display_data"
    }
   ],
   "source": [
    "plt.figure(figsize=(15,7))\n",
    "plt.plot(range_n_clusters,silhouette_avg, '-b', label=\"k-means\")\n",
    "plt.plot(k, y, '-r', label=\"agglomerative clustering\")\n",
    "plt.xlabel('Number of clusters', fontsize = 15)\n",
    "plt.ylabel('score ', fontsize=20) \n",
    "plt.legend(loc=\"lower right\", fontsize=19)\n",
    "plt.title(\"évaluation de kmeans et agglomerative avec silhouette\".upper())\n",
    "plt.show()"
   ]
  },
  {
   "cell_type": "markdown",
   "metadata": {},
   "source": [
    "<font color=blue size=3>\n",
    "    Avec la méthode Elbow et le score de la silhouette, Kmeans nous fournit toujours k=5. Néanmoins, l'AgglomerativeClustering nous fait supposer 5 clusters à partir du dendogramme mais indique 6 clusters avec le score de la silhouette \n",
    "</font>"
   ]
  },
  {
   "cell_type": "markdown",
   "metadata": {},
   "source": [
    "# Réduction de dimensions et visualisation "
   ]
  },
  {
   "cell_type": "markdown",
   "metadata": {},
   "source": [
    "## PCA"
   ]
  },
  {
   "cell_type": "code",
   "execution_count": 129,
   "metadata": {},
   "outputs": [],
   "source": [
    "pca3 = PCA(n_components=3)\n",
    "X_pca3 = pca3.fit_transform(X_catalogue_uncolored.toarray())"
   ]
  },
  {
   "cell_type": "code",
   "execution_count": 130,
   "metadata": {},
   "outputs": [
    {
     "name": "stdout",
     "output_type": "stream",
     "text": [
      "Pourcentage d'informations conservées avec les 2 premières composantes : 63.21%\n"
     ]
    }
   ],
   "source": [
    "print(f\"Pourcentage d'informations conservées avec les 2 premières composantes : {pca3.explained_variance_ratio_[:2].sum()*100:.2f}%\")"
   ]
  },
  {
   "cell_type": "markdown",
   "metadata": {},
   "source": [
    "<font color=\"blue\"> Clusters avec K-Means</font>"
   ]
  },
  {
   "cell_type": "code",
   "execution_count": 131,
   "metadata": {},
   "outputs": [
    {
     "data": {
      "text/plain": [
       "<matplotlib.collections.PathCollection at 0x1dfeede00a0>"
      ]
     },
     "execution_count": 131,
     "metadata": {},
     "output_type": "execute_result"
    },
    {
     "data": {
      "image/png": "[encoded data removed]",
      "text/plain": [
       "<Figure size 2160x504 with 3 Axes>"
      ]
     },
     "metadata": {},
     "output_type": "display_data"
    }
   ],
   "source": [
    "fig, (ax1, ax2, ax3) = plt.subplots(1,3, figsize=(30,7))\n",
    "\n",
    "coordinates_centroids= pca3.transform(kmeans_instances[3].cluster_centers_)\n",
    "ax1.set_title('KMEANS / n_clusters = 4'.upper())\n",
    "ax1.scatter(X_pca3[:,0], X_pca3[:, 1], c=kmeans_instances[3].labels_, cmap='jet') \n",
    "ax1.scatter(coordinates_centroids[:, 0], coordinates_centroids[:, 1], c='darkgreen', marker=\"x\", s=190)\n",
    "\n",
    "coordinates_centroids = pca3.transform(kmeans_instances[4].cluster_centers_)\n",
    "ax2.set_title('KMEANS / n_clusters = 5'.upper())\n",
    "ax2.scatter(X_pca3[:,0], X_pca3[:, 1], c=kmeans_instances[4].labels_, cmap='jet') \n",
    "ax2.scatter(coordinates_centroids[:, 0], coordinates_centroids[:, 1], c='red', marker=\"x\", s=190)\n",
    "\n",
    "coordinates_centroids = pca3.transform(kmeans_instances[5].cluster_centers_)\n",
    "ax3.set_title('KMEANS / n_clusters = 6'.upper())\n",
    "ax3.scatter(X_pca3[:,0], X_pca3[:, 1], c=kmeans_instances[5].labels_, cmap='jet') \n",
    "ax3.scatter(coordinates_centroids[:, 0], coordinates_centroids[:, 1], c='blue', marker=\"x\", s=190)\n",
    "\n",
    "# plt.subplots_adjust(wspace=0.3)"
   ]
  },
  {
   "cell_type": "markdown",
   "metadata": {},
   "source": [
    "<font color=\"blue\"> Clusters avec AgglomerativeClustering</font>"
   ]
  },
  {
   "cell_type": "code",
   "execution_count": 132,
   "metadata": {},
   "outputs": [
    {
     "data": {
      "text/plain": [
       "<matplotlib.collections.PathCollection at 0x1df828571f0>"
      ]
     },
     "execution_count": 132,
     "metadata": {},
     "output_type": "execute_result"
    },
    {
     "data": {
      "image/png": "[encoded data removed]",
      "text/plain": [
       "<Figure size 2160x504 with 3 Axes>"
      ]
     },
     "metadata": {},
     "output_type": "display_data"
    }
   ],
   "source": [
    "fig, (ax1,ax2, ax3) = plt.subplots(1, 3, figsize=(30,7))\n",
    "\n",
    "nc = NearestCentroid()\n",
    "\n",
    "estimated_centroids = pca3.transform(nc.fit(X_catalogue_uncolored, ac_4.labels_).centroids_)\n",
    "ax1.set_title('AgglomerativeClustering / n_clusters = 4'.upper())\n",
    "ax1.scatter(X_pca3[:,0], X_pca3[:, 1], c=ac_4.labels_, cmap='jet')\n",
    "ax1.scatter(estimated_centroids[:, 0], estimated_centroids[:, 1], c='red', marker=\"x\", s=190)\n",
    "\n",
    "estimated_centroids = pca3.transform(nc.fit(X_catalogue_uncolored, ac_5.labels_).centroids_)\n",
    "ax2.set_title('AgglomerativeClustering / n_clusters = 5'.upper())\n",
    "ax2.scatter(X_pca3[:,0], X_pca3[:, 1], c=ac_5.labels_, cmap='jet') \n",
    "ax2.scatter(estimated_centroids[:, 0], estimated_centroids[:, 1], c='red', marker=\"x\", s=190)\n",
    "\n",
    "estimated_centroids = pca3.transform(nc.fit(X_catalogue_uncolored, ac_6.labels_).centroids_)\n",
    "ax3.set_title('AgglomerativeClustering / n_clusters = 6'.upper())\n",
    "ax3.scatter(X_pca3[:,0], X_pca3[:, 1], c=ac_6.labels_, cmap='jet') \n",
    "ax3.scatter(X_pca3[:,0], X_pca3[:, 1], c=ac_4.labels_, cmap='jet')\n",
    "ax3.scatter(estimated_centroids[:, 0], estimated_centroids[:, 1], c='red', marker=\"x\", s=90)\n",
    " \n",
    "# plt.subplots_adjust(wspace=0.3)"
   ]
  },
  {
   "cell_type": "markdown",
   "metadata": {},
   "source": [
    "## <font color=\"blue\"> En visusalisant en 2D après une réduction basée sur PCA, le K-Means et l'agglomerative clustering fournissent des résultats assez similaires.  </font>"
   ]
  },
  {
   "cell_type": "code",
   "execution_count": null,
   "metadata": {},
   "outputs": [],
   "source": []
  },
  {
   "cell_type": "markdown",
   "metadata": {},
   "source": [
    "# <font color=\"blue\"> Après analyse,  nous choisissons k=5 clusters avec le modèle de k-Means car les données y sont mieux regroupées avec PCA</font>"
   ]
  },
  {
   "cell_type": "code",
   "execution_count": 133,
   "metadata": {},
   "outputs": [],
   "source": [
    "catalogue_uncolored['label'] = kmeans_instances[4].predict(X_catalogue_uncolored)"
   ]
  },
  {
   "cell_type": "code",
   "execution_count": 134,
   "metadata": {},
   "outputs": [
    {
     "data": {
      "text/plain": [
       "2    18\n",
       "0    14\n",
       "3    12\n",
       "1     6\n",
       "4     4\n",
       "Name: label, dtype: int64"
      ]
     },
     "execution_count": 134,
     "metadata": {},
     "output_type": "execute_result"
    }
   ],
   "source": [
    "catalogue_uncolored.label.value_counts()"
   ]
  },
  {
   "cell_type": "code",
   "execution_count": 135,
   "metadata": {},
   "outputs": [
    {
     "data": {
      "text/html": [
       "<div>\n",
       "<style scoped>\n",
       "    .dataframe tbody tr th:only-of-type {\n",
       "        vertical-align: middle;\n",
       "    }\n",
       "\n",
       "    .dataframe tbody tr th {\n",
       "        vertical-align: top;\n",
       "    }\n",
       "\n",
       "    .dataframe thead th {\n",
       "        text-align: right;\n",
       "    }\n",
       "</style>\n",
       "<table border=\"1\" class=\"dataframe\">\n",
       "  <thead>\n",
       "    <tr style=\"text-align: right;\">\n",
       "      <th></th>\n",
       "      <th>marque</th>\n",
       "      <th>nom</th>\n",
       "      <th>puissance</th>\n",
       "      <th>longueur</th>\n",
       "      <th>nbPlaces</th>\n",
       "      <th>nbPortes</th>\n",
       "      <th>occasion</th>\n",
       "      <th>prix</th>\n",
       "      <th>label</th>\n",
       "    </tr>\n",
       "  </thead>\n",
       "  <tbody>\n",
       "    <tr>\n",
       "      <th>2</th>\n",
       "      <td>Audi</td>\n",
       "      <td>A3 2.0 FSI</td>\n",
       "      <td>150</td>\n",
       "      <td>moyenne</td>\n",
       "      <td>5</td>\n",
       "      <td>5</td>\n",
       "      <td>0</td>\n",
       "      <td>28500</td>\n",
       "      <td>0</td>\n",
       "    </tr>\n",
       "    <tr>\n",
       "      <th>3</th>\n",
       "      <td>Audi</td>\n",
       "      <td>A3 2.0 FSI</td>\n",
       "      <td>150</td>\n",
       "      <td>moyenne</td>\n",
       "      <td>5</td>\n",
       "      <td>5</td>\n",
       "      <td>1</td>\n",
       "      <td>19950</td>\n",
       "      <td>0</td>\n",
       "    </tr>\n",
       "    <tr>\n",
       "      <th>4</th>\n",
       "      <td>BMW</td>\n",
       "      <td>120i</td>\n",
       "      <td>150</td>\n",
       "      <td>moyenne</td>\n",
       "      <td>5</td>\n",
       "      <td>5</td>\n",
       "      <td>0</td>\n",
       "      <td>35800</td>\n",
       "      <td>0</td>\n",
       "    </tr>\n",
       "    <tr>\n",
       "      <th>5</th>\n",
       "      <td>BMW</td>\n",
       "      <td>120i</td>\n",
       "      <td>150</td>\n",
       "      <td>moyenne</td>\n",
       "      <td>5</td>\n",
       "      <td>5</td>\n",
       "      <td>1</td>\n",
       "      <td>25060</td>\n",
       "      <td>0</td>\n",
       "    </tr>\n",
       "    <tr>\n",
       "      <th>8</th>\n",
       "      <td>Dacia</td>\n",
       "      <td>Logan 1.6 MPI</td>\n",
       "      <td>90</td>\n",
       "      <td>moyenne</td>\n",
       "      <td>5</td>\n",
       "      <td>5</td>\n",
       "      <td>0</td>\n",
       "      <td>7500</td>\n",
       "      <td>0</td>\n",
       "    </tr>\n",
       "    <tr>\n",
       "      <th>21</th>\n",
       "      <td>Mercedes</td>\n",
       "      <td>A200</td>\n",
       "      <td>136</td>\n",
       "      <td>moyenne</td>\n",
       "      <td>5</td>\n",
       "      <td>5</td>\n",
       "      <td>0</td>\n",
       "      <td>25900</td>\n",
       "      <td>0</td>\n",
       "    </tr>\n",
       "    <tr>\n",
       "      <th>22</th>\n",
       "      <td>Mercedes</td>\n",
       "      <td>A200</td>\n",
       "      <td>136</td>\n",
       "      <td>moyenne</td>\n",
       "      <td>5</td>\n",
       "      <td>5</td>\n",
       "      <td>1</td>\n",
       "      <td>18130</td>\n",
       "      <td>0</td>\n",
       "    </tr>\n",
       "    <tr>\n",
       "      <th>27</th>\n",
       "      <td>Nissan</td>\n",
       "      <td>Almera 1.8</td>\n",
       "      <td>115</td>\n",
       "      <td>moyenne</td>\n",
       "      <td>5</td>\n",
       "      <td>5</td>\n",
       "      <td>0</td>\n",
       "      <td>16450</td>\n",
       "      <td>0</td>\n",
       "    </tr>\n",
       "    <tr>\n",
       "      <th>36</th>\n",
       "      <td>Renault</td>\n",
       "      <td>Megane 2.0 16V</td>\n",
       "      <td>135</td>\n",
       "      <td>moyenne</td>\n",
       "      <td>5</td>\n",
       "      <td>5</td>\n",
       "      <td>0</td>\n",
       "      <td>22350</td>\n",
       "      <td>0</td>\n",
       "    </tr>\n",
       "    <tr>\n",
       "      <th>37</th>\n",
       "      <td>Renault</td>\n",
       "      <td>Megane 2.0 16V</td>\n",
       "      <td>135</td>\n",
       "      <td>moyenne</td>\n",
       "      <td>5</td>\n",
       "      <td>5</td>\n",
       "      <td>1</td>\n",
       "      <td>15644</td>\n",
       "      <td>0</td>\n",
       "    </tr>\n",
       "    <tr>\n",
       "      <th>44</th>\n",
       "      <td>Volkswagen</td>\n",
       "      <td>Golf 2.0 FSI</td>\n",
       "      <td>150</td>\n",
       "      <td>moyenne</td>\n",
       "      <td>5</td>\n",
       "      <td>5</td>\n",
       "      <td>0</td>\n",
       "      <td>22900</td>\n",
       "      <td>0</td>\n",
       "    </tr>\n",
       "    <tr>\n",
       "      <th>45</th>\n",
       "      <td>Volkswagen</td>\n",
       "      <td>Golf 2.0 FSI</td>\n",
       "      <td>150</td>\n",
       "      <td>moyenne</td>\n",
       "      <td>5</td>\n",
       "      <td>5</td>\n",
       "      <td>1</td>\n",
       "      <td>16029</td>\n",
       "      <td>0</td>\n",
       "    </tr>\n",
       "    <tr>\n",
       "      <th>46</th>\n",
       "      <td>Volkswagen</td>\n",
       "      <td>New Beatle 1.8</td>\n",
       "      <td>110</td>\n",
       "      <td>moyenne</td>\n",
       "      <td>5</td>\n",
       "      <td>5</td>\n",
       "      <td>0</td>\n",
       "      <td>26630</td>\n",
       "      <td>0</td>\n",
       "    </tr>\n",
       "    <tr>\n",
       "      <th>47</th>\n",
       "      <td>Volkswagen</td>\n",
       "      <td>New Beatle 1.8</td>\n",
       "      <td>110</td>\n",
       "      <td>moyenne</td>\n",
       "      <td>5</td>\n",
       "      <td>5</td>\n",
       "      <td>1</td>\n",
       "      <td>18641</td>\n",
       "      <td>0</td>\n",
       "    </tr>\n",
       "  </tbody>\n",
       "</table>\n",
       "</div>"
      ],
      "text/plain": [
       "        marque             nom  puissance longueur  nbPlaces  nbPortes  \\\n",
       "2         Audi      A3 2.0 FSI        150  moyenne         5         5   \n",
       "3         Audi      A3 2.0 FSI        150  moyenne         5         5   \n",
       "4          BMW            120i        150  moyenne         5         5   \n",
       "5          BMW            120i        150  moyenne         5         5   \n",
       "8        Dacia   Logan 1.6 MPI         90  moyenne         5         5   \n",
       "21    Mercedes            A200        136  moyenne         5         5   \n",
       "22    Mercedes            A200        136  moyenne         5         5   \n",
       "27      Nissan      Almera 1.8        115  moyenne         5         5   \n",
       "36     Renault  Megane 2.0 16V        135  moyenne         5         5   \n",
       "37     Renault  Megane 2.0 16V        135  moyenne         5         5   \n",
       "44  Volkswagen    Golf 2.0 FSI        150  moyenne         5         5   \n",
       "45  Volkswagen    Golf 2.0 FSI        150  moyenne         5         5   \n",
       "46  Volkswagen  New Beatle 1.8        110  moyenne         5         5   \n",
       "47  Volkswagen  New Beatle 1.8        110  moyenne         5         5   \n",
       "\n",
       "    occasion   prix  label  \n",
       "2          0  28500      0  \n",
       "3          1  19950      0  \n",
       "4          0  35800      0  \n",
       "5          1  25060      0  \n",
       "8          0   7500      0  \n",
       "21         0  25900      0  \n",
       "22         1  18130      0  \n",
       "27         0  16450      0  \n",
       "36         0  22350      0  \n",
       "37         1  15644      0  \n",
       "44         0  22900      0  \n",
       "45         1  16029      0  \n",
       "46         0  26630      0  \n",
       "47         1  18641      0  "
      ]
     },
     "execution_count": 135,
     "metadata": {},
     "output_type": "execute_result"
    }
   ],
   "source": [
    "catalogue_uncolored[catalogue_uncolored.label == 0]"
   ]
  },
  {
   "cell_type": "code",
   "execution_count": 136,
   "metadata": {},
   "outputs": [
    {
     "data": {
      "text/html": [
       "<div>\n",
       "<style scoped>\n",
       "    .dataframe tbody tr th:only-of-type {\n",
       "        vertical-align: middle;\n",
       "    }\n",
       "\n",
       "    .dataframe tbody tr th {\n",
       "        vertical-align: top;\n",
       "    }\n",
       "\n",
       "    .dataframe thead th {\n",
       "        text-align: right;\n",
       "    }\n",
       "</style>\n",
       "<table border=\"1\" class=\"dataframe\">\n",
       "  <thead>\n",
       "    <tr style=\"text-align: right;\">\n",
       "      <th></th>\n",
       "      <th>marque</th>\n",
       "      <th>nom</th>\n",
       "      <th>puissance</th>\n",
       "      <th>longueur</th>\n",
       "      <th>nbPlaces</th>\n",
       "      <th>nbPortes</th>\n",
       "      <th>occasion</th>\n",
       "      <th>prix</th>\n",
       "      <th>label</th>\n",
       "    </tr>\n",
       "  </thead>\n",
       "  <tbody>\n",
       "    <tr>\n",
       "      <th>28</th>\n",
       "      <td>Nissan</td>\n",
       "      <td>Maxima 3.0 V6</td>\n",
       "      <td>200</td>\n",
       "      <td>très longue</td>\n",
       "      <td>5</td>\n",
       "      <td>5</td>\n",
       "      <td>0</td>\n",
       "      <td>30000</td>\n",
       "      <td>1</td>\n",
       "    </tr>\n",
       "    <tr>\n",
       "      <th>38</th>\n",
       "      <td>Renault</td>\n",
       "      <td>Vel Satis 3.5 V6</td>\n",
       "      <td>245</td>\n",
       "      <td>très longue</td>\n",
       "      <td>5</td>\n",
       "      <td>5</td>\n",
       "      <td>0</td>\n",
       "      <td>49200</td>\n",
       "      <td>1</td>\n",
       "    </tr>\n",
       "    <tr>\n",
       "      <th>39</th>\n",
       "      <td>Renault</td>\n",
       "      <td>Vel Satis 3.5 V6</td>\n",
       "      <td>245</td>\n",
       "      <td>très longue</td>\n",
       "      <td>5</td>\n",
       "      <td>5</td>\n",
       "      <td>1</td>\n",
       "      <td>34440</td>\n",
       "      <td>1</td>\n",
       "    </tr>\n",
       "    <tr>\n",
       "      <th>43</th>\n",
       "      <td>Skoda</td>\n",
       "      <td>Superb 2.8 V6</td>\n",
       "      <td>193</td>\n",
       "      <td>très longue</td>\n",
       "      <td>5</td>\n",
       "      <td>5</td>\n",
       "      <td>0</td>\n",
       "      <td>31790</td>\n",
       "      <td>1</td>\n",
       "    </tr>\n",
       "    <tr>\n",
       "      <th>52</th>\n",
       "      <td>Volvo</td>\n",
       "      <td>S80 T6</td>\n",
       "      <td>272</td>\n",
       "      <td>très longue</td>\n",
       "      <td>5</td>\n",
       "      <td>5</td>\n",
       "      <td>0</td>\n",
       "      <td>50500</td>\n",
       "      <td>1</td>\n",
       "    </tr>\n",
       "    <tr>\n",
       "      <th>53</th>\n",
       "      <td>Volvo</td>\n",
       "      <td>S80 T6</td>\n",
       "      <td>272</td>\n",
       "      <td>très longue</td>\n",
       "      <td>5</td>\n",
       "      <td>5</td>\n",
       "      <td>1</td>\n",
       "      <td>35350</td>\n",
       "      <td>1</td>\n",
       "    </tr>\n",
       "  </tbody>\n",
       "</table>\n",
       "</div>"
      ],
      "text/plain": [
       "     marque               nom  puissance     longueur  nbPlaces  nbPortes  \\\n",
       "28   Nissan     Maxima 3.0 V6        200  très longue         5         5   \n",
       "38  Renault  Vel Satis 3.5 V6        245  très longue         5         5   \n",
       "39  Renault  Vel Satis 3.5 V6        245  très longue         5         5   \n",
       "43    Skoda     Superb 2.8 V6        193  très longue         5         5   \n",
       "52    Volvo            S80 T6        272  très longue         5         5   \n",
       "53    Volvo            S80 T6        272  très longue         5         5   \n",
       "\n",
       "    occasion   prix  label  \n",
       "28         0  30000      1  \n",
       "38         0  49200      1  \n",
       "39         1  34440      1  \n",
       "43         0  31790      1  \n",
       "52         0  50500      1  \n",
       "53         1  35350      1  "
      ]
     },
     "execution_count": 136,
     "metadata": {},
     "output_type": "execute_result"
    }
   ],
   "source": [
    "catalogue_uncolored[catalogue_uncolored.label == 1]"
   ]
  },
  {
   "cell_type": "code",
   "execution_count": 137,
   "metadata": {},
   "outputs": [
    {
     "data": {
      "text/html": [
       "<div>\n",
       "<style scoped>\n",
       "    .dataframe tbody tr th:only-of-type {\n",
       "        vertical-align: middle;\n",
       "    }\n",
       "\n",
       "    .dataframe tbody tr th {\n",
       "        vertical-align: top;\n",
       "    }\n",
       "\n",
       "    .dataframe thead th {\n",
       "        text-align: right;\n",
       "    }\n",
       "</style>\n",
       "<table border=\"1\" class=\"dataframe\">\n",
       "  <thead>\n",
       "    <tr style=\"text-align: right;\">\n",
       "      <th></th>\n",
       "      <th>marque</th>\n",
       "      <th>nom</th>\n",
       "      <th>puissance</th>\n",
       "      <th>longueur</th>\n",
       "      <th>nbPlaces</th>\n",
       "      <th>nbPortes</th>\n",
       "      <th>occasion</th>\n",
       "      <th>prix</th>\n",
       "      <th>label</th>\n",
       "    </tr>\n",
       "  </thead>\n",
       "  <tbody>\n",
       "    <tr>\n",
       "      <th>10</th>\n",
       "      <td>Fiat</td>\n",
       "      <td>Croma 2.2</td>\n",
       "      <td>147</td>\n",
       "      <td>longue</td>\n",
       "      <td>5</td>\n",
       "      <td>5</td>\n",
       "      <td>0</td>\n",
       "      <td>24780</td>\n",
       "      <td>2</td>\n",
       "    </tr>\n",
       "    <tr>\n",
       "      <th>11</th>\n",
       "      <td>Fiat</td>\n",
       "      <td>Croma 2.2</td>\n",
       "      <td>147</td>\n",
       "      <td>longue</td>\n",
       "      <td>5</td>\n",
       "      <td>5</td>\n",
       "      <td>1</td>\n",
       "      <td>17346</td>\n",
       "      <td>2</td>\n",
       "    </tr>\n",
       "    <tr>\n",
       "      <th>12</th>\n",
       "      <td>Ford</td>\n",
       "      <td>Mondeo 1.8</td>\n",
       "      <td>125</td>\n",
       "      <td>longue</td>\n",
       "      <td>5</td>\n",
       "      <td>5</td>\n",
       "      <td>0</td>\n",
       "      <td>23900</td>\n",
       "      <td>2</td>\n",
       "    </tr>\n",
       "    <tr>\n",
       "      <th>13</th>\n",
       "      <td>Ford</td>\n",
       "      <td>Mondeo 1.8</td>\n",
       "      <td>125</td>\n",
       "      <td>longue</td>\n",
       "      <td>5</td>\n",
       "      <td>5</td>\n",
       "      <td>1</td>\n",
       "      <td>16730</td>\n",
       "      <td>2</td>\n",
       "    </tr>\n",
       "    <tr>\n",
       "      <th>14</th>\n",
       "      <td>Honda</td>\n",
       "      <td>FR-V 1.7</td>\n",
       "      <td>125</td>\n",
       "      <td>longue</td>\n",
       "      <td>7</td>\n",
       "      <td>5</td>\n",
       "      <td>0</td>\n",
       "      <td>19550</td>\n",
       "      <td>2</td>\n",
       "    </tr>\n",
       "    <tr>\n",
       "      <th>15</th>\n",
       "      <td>Hyundaï</td>\n",
       "      <td>Matrix 1.6</td>\n",
       "      <td>103</td>\n",
       "      <td>longue</td>\n",
       "      <td>7</td>\n",
       "      <td>5</td>\n",
       "      <td>0</td>\n",
       "      <td>15960</td>\n",
       "      <td>2</td>\n",
       "    </tr>\n",
       "    <tr>\n",
       "      <th>16</th>\n",
       "      <td>Jaguar</td>\n",
       "      <td>X-Type 2.5 V6</td>\n",
       "      <td>197</td>\n",
       "      <td>longue</td>\n",
       "      <td>5</td>\n",
       "      <td>5</td>\n",
       "      <td>0</td>\n",
       "      <td>37100</td>\n",
       "      <td>2</td>\n",
       "    </tr>\n",
       "    <tr>\n",
       "      <th>17</th>\n",
       "      <td>Jaguar</td>\n",
       "      <td>X-Type 2.5 V6</td>\n",
       "      <td>197</td>\n",
       "      <td>longue</td>\n",
       "      <td>5</td>\n",
       "      <td>5</td>\n",
       "      <td>1</td>\n",
       "      <td>25970</td>\n",
       "      <td>2</td>\n",
       "    </tr>\n",
       "    <tr>\n",
       "      <th>29</th>\n",
       "      <td>Nissan</td>\n",
       "      <td>Primera 1.6</td>\n",
       "      <td>109</td>\n",
       "      <td>longue</td>\n",
       "      <td>5</td>\n",
       "      <td>5</td>\n",
       "      <td>0</td>\n",
       "      <td>18650</td>\n",
       "      <td>2</td>\n",
       "    </tr>\n",
       "    <tr>\n",
       "      <th>32</th>\n",
       "      <td>Renault</td>\n",
       "      <td>Espace 2.0T</td>\n",
       "      <td>165</td>\n",
       "      <td>longue</td>\n",
       "      <td>7</td>\n",
       "      <td>5</td>\n",
       "      <td>0</td>\n",
       "      <td>30350</td>\n",
       "      <td>2</td>\n",
       "    </tr>\n",
       "    <tr>\n",
       "      <th>33</th>\n",
       "      <td>Renault</td>\n",
       "      <td>Espace 2.0T</td>\n",
       "      <td>165</td>\n",
       "      <td>longue</td>\n",
       "      <td>7</td>\n",
       "      <td>5</td>\n",
       "      <td>1</td>\n",
       "      <td>21245</td>\n",
       "      <td>2</td>\n",
       "    </tr>\n",
       "    <tr>\n",
       "      <th>34</th>\n",
       "      <td>Renault</td>\n",
       "      <td>Laguna 2.0T</td>\n",
       "      <td>170</td>\n",
       "      <td>longue</td>\n",
       "      <td>5</td>\n",
       "      <td>5</td>\n",
       "      <td>0</td>\n",
       "      <td>27300</td>\n",
       "      <td>2</td>\n",
       "    </tr>\n",
       "    <tr>\n",
       "      <th>35</th>\n",
       "      <td>Renault</td>\n",
       "      <td>Laguna 2.0T</td>\n",
       "      <td>170</td>\n",
       "      <td>longue</td>\n",
       "      <td>5</td>\n",
       "      <td>5</td>\n",
       "      <td>1</td>\n",
       "      <td>19110</td>\n",
       "      <td>2</td>\n",
       "    </tr>\n",
       "    <tr>\n",
       "      <th>40</th>\n",
       "      <td>Saab</td>\n",
       "      <td>9.3 1.8T</td>\n",
       "      <td>150</td>\n",
       "      <td>longue</td>\n",
       "      <td>5</td>\n",
       "      <td>5</td>\n",
       "      <td>0</td>\n",
       "      <td>38600</td>\n",
       "      <td>2</td>\n",
       "    </tr>\n",
       "    <tr>\n",
       "      <th>41</th>\n",
       "      <td>Saab</td>\n",
       "      <td>9.3 1.8T</td>\n",
       "      <td>150</td>\n",
       "      <td>longue</td>\n",
       "      <td>5</td>\n",
       "      <td>5</td>\n",
       "      <td>1</td>\n",
       "      <td>27020</td>\n",
       "      <td>2</td>\n",
       "    </tr>\n",
       "    <tr>\n",
       "      <th>42</th>\n",
       "      <td>Seat</td>\n",
       "      <td>Toledo 1.6</td>\n",
       "      <td>102</td>\n",
       "      <td>longue</td>\n",
       "      <td>5</td>\n",
       "      <td>5</td>\n",
       "      <td>0</td>\n",
       "      <td>18880</td>\n",
       "      <td>2</td>\n",
       "    </tr>\n",
       "    <tr>\n",
       "      <th>50</th>\n",
       "      <td>Volkswagen</td>\n",
       "      <td>Touran 2.0 FSI</td>\n",
       "      <td>150</td>\n",
       "      <td>longue</td>\n",
       "      <td>7</td>\n",
       "      <td>5</td>\n",
       "      <td>0</td>\n",
       "      <td>27340</td>\n",
       "      <td>2</td>\n",
       "    </tr>\n",
       "    <tr>\n",
       "      <th>51</th>\n",
       "      <td>Volkswagen</td>\n",
       "      <td>Touran 2.0 FSI</td>\n",
       "      <td>150</td>\n",
       "      <td>longue</td>\n",
       "      <td>7</td>\n",
       "      <td>5</td>\n",
       "      <td>1</td>\n",
       "      <td>19138</td>\n",
       "      <td>2</td>\n",
       "    </tr>\n",
       "  </tbody>\n",
       "</table>\n",
       "</div>"
      ],
      "text/plain": [
       "        marque             nom  puissance longueur  nbPlaces  nbPortes  \\\n",
       "10        Fiat       Croma 2.2        147   longue         5         5   \n",
       "11        Fiat       Croma 2.2        147   longue         5         5   \n",
       "12        Ford      Mondeo 1.8        125   longue         5         5   \n",
       "13        Ford      Mondeo 1.8        125   longue         5         5   \n",
       "14       Honda        FR-V 1.7        125   longue         7         5   \n",
       "15     Hyundaï      Matrix 1.6        103   longue         7         5   \n",
       "16      Jaguar   X-Type 2.5 V6        197   longue         5         5   \n",
       "17      Jaguar   X-Type 2.5 V6        197   longue         5         5   \n",
       "29      Nissan     Primera 1.6        109   longue         5         5   \n",
       "32     Renault     Espace 2.0T        165   longue         7         5   \n",
       "33     Renault     Espace 2.0T        165   longue         7         5   \n",
       "34     Renault     Laguna 2.0T        170   longue         5         5   \n",
       "35     Renault     Laguna 2.0T        170   longue         5         5   \n",
       "40        Saab        9.3 1.8T        150   longue         5         5   \n",
       "41        Saab        9.3 1.8T        150   longue         5         5   \n",
       "42        Seat      Toledo 1.6        102   longue         5         5   \n",
       "50  Volkswagen  Touran 2.0 FSI        150   longue         7         5   \n",
       "51  Volkswagen  Touran 2.0 FSI        150   longue         7         5   \n",
       "\n",
       "    occasion   prix  label  \n",
       "10         0  24780      2  \n",
       "11         1  17346      2  \n",
       "12         0  23900      2  \n",
       "13         1  16730      2  \n",
       "14         0  19550      2  \n",
       "15         0  15960      2  \n",
       "16         0  37100      2  \n",
       "17         1  25970      2  \n",
       "29         0  18650      2  \n",
       "32         0  30350      2  \n",
       "33         1  21245      2  \n",
       "34         0  27300      2  \n",
       "35         1  19110      2  \n",
       "40         0  38600      2  \n",
       "41         1  27020      2  \n",
       "42         0  18880      2  \n",
       "50         0  27340      2  \n",
       "51         1  19138      2  "
      ]
     },
     "execution_count": 137,
     "metadata": {},
     "output_type": "execute_result"
    }
   ],
   "source": [
    "catalogue_uncolored[catalogue_uncolored.label == 2]"
   ]
  },
  {
   "cell_type": "code",
   "execution_count": 138,
   "metadata": {},
   "outputs": [
    {
     "data": {
      "text/html": [
       "<div>\n",
       "<style scoped>\n",
       "    .dataframe tbody tr th:only-of-type {\n",
       "        vertical-align: middle;\n",
       "    }\n",
       "\n",
       "    .dataframe tbody tr th {\n",
       "        vertical-align: top;\n",
       "    }\n",
       "\n",
       "    .dataframe thead th {\n",
       "        text-align: right;\n",
       "    }\n",
       "</style>\n",
       "<table border=\"1\" class=\"dataframe\">\n",
       "  <thead>\n",
       "    <tr style=\"text-align: right;\">\n",
       "      <th></th>\n",
       "      <th>marque</th>\n",
       "      <th>nom</th>\n",
       "      <th>puissance</th>\n",
       "      <th>longueur</th>\n",
       "      <th>nbPlaces</th>\n",
       "      <th>nbPortes</th>\n",
       "      <th>occasion</th>\n",
       "      <th>prix</th>\n",
       "      <th>label</th>\n",
       "    </tr>\n",
       "  </thead>\n",
       "  <tbody>\n",
       "    <tr>\n",
       "      <th>0</th>\n",
       "      <td>Audi</td>\n",
       "      <td>A2 1.4</td>\n",
       "      <td>75</td>\n",
       "      <td>courte</td>\n",
       "      <td>5</td>\n",
       "      <td>5</td>\n",
       "      <td>0</td>\n",
       "      <td>18310</td>\n",
       "      <td>3</td>\n",
       "    </tr>\n",
       "    <tr>\n",
       "      <th>1</th>\n",
       "      <td>Audi</td>\n",
       "      <td>A2 1.4</td>\n",
       "      <td>75</td>\n",
       "      <td>courte</td>\n",
       "      <td>5</td>\n",
       "      <td>5</td>\n",
       "      <td>1</td>\n",
       "      <td>12817</td>\n",
       "      <td>3</td>\n",
       "    </tr>\n",
       "    <tr>\n",
       "      <th>9</th>\n",
       "      <td>Daihatsu</td>\n",
       "      <td>Cuore 1.0</td>\n",
       "      <td>58</td>\n",
       "      <td>courte</td>\n",
       "      <td>5</td>\n",
       "      <td>3</td>\n",
       "      <td>0</td>\n",
       "      <td>8850</td>\n",
       "      <td>3</td>\n",
       "    </tr>\n",
       "    <tr>\n",
       "      <th>18</th>\n",
       "      <td>Kia</td>\n",
       "      <td>Picanto 1.1</td>\n",
       "      <td>65</td>\n",
       "      <td>courte</td>\n",
       "      <td>5</td>\n",
       "      <td>5</td>\n",
       "      <td>0</td>\n",
       "      <td>8990</td>\n",
       "      <td>3</td>\n",
       "    </tr>\n",
       "    <tr>\n",
       "      <th>19</th>\n",
       "      <td>Lancia</td>\n",
       "      <td>Ypsilon 1.4 16V</td>\n",
       "      <td>90</td>\n",
       "      <td>courte</td>\n",
       "      <td>5</td>\n",
       "      <td>3</td>\n",
       "      <td>0</td>\n",
       "      <td>13500</td>\n",
       "      <td>3</td>\n",
       "    </tr>\n",
       "    <tr>\n",
       "      <th>20</th>\n",
       "      <td>Lancia</td>\n",
       "      <td>Ypsilon 1.4 16V</td>\n",
       "      <td>90</td>\n",
       "      <td>courte</td>\n",
       "      <td>5</td>\n",
       "      <td>3</td>\n",
       "      <td>1</td>\n",
       "      <td>9450</td>\n",
       "      <td>3</td>\n",
       "    </tr>\n",
       "    <tr>\n",
       "      <th>25</th>\n",
       "      <td>Mini</td>\n",
       "      <td>Copper 1.6 16V</td>\n",
       "      <td>115</td>\n",
       "      <td>courte</td>\n",
       "      <td>5</td>\n",
       "      <td>5</td>\n",
       "      <td>0</td>\n",
       "      <td>18200</td>\n",
       "      <td>3</td>\n",
       "    </tr>\n",
       "    <tr>\n",
       "      <th>26</th>\n",
       "      <td>Mini</td>\n",
       "      <td>Copper 1.6 16V</td>\n",
       "      <td>115</td>\n",
       "      <td>courte</td>\n",
       "      <td>5</td>\n",
       "      <td>5</td>\n",
       "      <td>1</td>\n",
       "      <td>12740</td>\n",
       "      <td>3</td>\n",
       "    </tr>\n",
       "    <tr>\n",
       "      <th>30</th>\n",
       "      <td>Peugeot</td>\n",
       "      <td>1007 1.4</td>\n",
       "      <td>75</td>\n",
       "      <td>courte</td>\n",
       "      <td>5</td>\n",
       "      <td>5</td>\n",
       "      <td>0</td>\n",
       "      <td>13750</td>\n",
       "      <td>3</td>\n",
       "    </tr>\n",
       "    <tr>\n",
       "      <th>31</th>\n",
       "      <td>Peugeot</td>\n",
       "      <td>1007 1.4</td>\n",
       "      <td>75</td>\n",
       "      <td>courte</td>\n",
       "      <td>5</td>\n",
       "      <td>5</td>\n",
       "      <td>1</td>\n",
       "      <td>9625</td>\n",
       "      <td>3</td>\n",
       "    </tr>\n",
       "    <tr>\n",
       "      <th>48</th>\n",
       "      <td>Volkswagen</td>\n",
       "      <td>Polo 1.2 6V</td>\n",
       "      <td>55</td>\n",
       "      <td>courte</td>\n",
       "      <td>5</td>\n",
       "      <td>3</td>\n",
       "      <td>0</td>\n",
       "      <td>12200</td>\n",
       "      <td>3</td>\n",
       "    </tr>\n",
       "    <tr>\n",
       "      <th>49</th>\n",
       "      <td>Volkswagen</td>\n",
       "      <td>Polo 1.2 6V</td>\n",
       "      <td>55</td>\n",
       "      <td>courte</td>\n",
       "      <td>5</td>\n",
       "      <td>3</td>\n",
       "      <td>1</td>\n",
       "      <td>8540</td>\n",
       "      <td>3</td>\n",
       "    </tr>\n",
       "  </tbody>\n",
       "</table>\n",
       "</div>"
      ],
      "text/plain": [
       "        marque              nom  puissance longueur  nbPlaces  nbPortes  \\\n",
       "0         Audi           A2 1.4         75   courte         5         5   \n",
       "1         Audi           A2 1.4         75   courte         5         5   \n",
       "9     Daihatsu        Cuore 1.0         58   courte         5         3   \n",
       "18         Kia      Picanto 1.1         65   courte         5         5   \n",
       "19      Lancia  Ypsilon 1.4 16V         90   courte         5         3   \n",
       "20      Lancia  Ypsilon 1.4 16V         90   courte         5         3   \n",
       "25        Mini   Copper 1.6 16V        115   courte         5         5   \n",
       "26        Mini   Copper 1.6 16V        115   courte         5         5   \n",
       "30     Peugeot         1007 1.4         75   courte         5         5   \n",
       "31     Peugeot         1007 1.4         75   courte         5         5   \n",
       "48  Volkswagen      Polo 1.2 6V         55   courte         5         3   \n",
       "49  Volkswagen      Polo 1.2 6V         55   courte         5         3   \n",
       "\n",
       "    occasion   prix  label  \n",
       "0          0  18310      3  \n",
       "1          1  12817      3  \n",
       "9          0   8850      3  \n",
       "18         0   8990      3  \n",
       "19         0  13500      3  \n",
       "20         1   9450      3  \n",
       "25         0  18200      3  \n",
       "26         1  12740      3  \n",
       "30         0  13750      3  \n",
       "31         1   9625      3  \n",
       "48         0  12200      3  \n",
       "49         1   8540      3  "
      ]
     },
     "execution_count": 138,
     "metadata": {},
     "output_type": "execute_result"
    }
   ],
   "source": [
    "catalogue_uncolored[catalogue_uncolored.label == 3]"
   ]
  },
  {
   "cell_type": "code",
   "execution_count": 139,
   "metadata": {},
   "outputs": [
    {
     "data": {
      "text/html": [
       "<div>\n",
       "<style scoped>\n",
       "    .dataframe tbody tr th:only-of-type {\n",
       "        vertical-align: middle;\n",
       "    }\n",
       "\n",
       "    .dataframe tbody tr th {\n",
       "        vertical-align: top;\n",
       "    }\n",
       "\n",
       "    .dataframe thead th {\n",
       "        text-align: right;\n",
       "    }\n",
       "</style>\n",
       "<table border=\"1\" class=\"dataframe\">\n",
       "  <thead>\n",
       "    <tr style=\"text-align: right;\">\n",
       "      <th></th>\n",
       "      <th>marque</th>\n",
       "      <th>nom</th>\n",
       "      <th>puissance</th>\n",
       "      <th>longueur</th>\n",
       "      <th>nbPlaces</th>\n",
       "      <th>nbPortes</th>\n",
       "      <th>occasion</th>\n",
       "      <th>prix</th>\n",
       "      <th>label</th>\n",
       "    </tr>\n",
       "  </thead>\n",
       "  <tbody>\n",
       "    <tr>\n",
       "      <th>6</th>\n",
       "      <td>BMW</td>\n",
       "      <td>M5</td>\n",
       "      <td>507</td>\n",
       "      <td>très longue</td>\n",
       "      <td>5</td>\n",
       "      <td>5</td>\n",
       "      <td>0</td>\n",
       "      <td>94800</td>\n",
       "      <td>4</td>\n",
       "    </tr>\n",
       "    <tr>\n",
       "      <th>7</th>\n",
       "      <td>BMW</td>\n",
       "      <td>M5</td>\n",
       "      <td>507</td>\n",
       "      <td>très longue</td>\n",
       "      <td>5</td>\n",
       "      <td>5</td>\n",
       "      <td>1</td>\n",
       "      <td>66360</td>\n",
       "      <td>4</td>\n",
       "    </tr>\n",
       "    <tr>\n",
       "      <th>23</th>\n",
       "      <td>Mercedes</td>\n",
       "      <td>S500</td>\n",
       "      <td>306</td>\n",
       "      <td>très longue</td>\n",
       "      <td>5</td>\n",
       "      <td>5</td>\n",
       "      <td>0</td>\n",
       "      <td>101300</td>\n",
       "      <td>4</td>\n",
       "    </tr>\n",
       "    <tr>\n",
       "      <th>24</th>\n",
       "      <td>Mercedes</td>\n",
       "      <td>S500</td>\n",
       "      <td>306</td>\n",
       "      <td>très longue</td>\n",
       "      <td>5</td>\n",
       "      <td>5</td>\n",
       "      <td>1</td>\n",
       "      <td>70910</td>\n",
       "      <td>4</td>\n",
       "    </tr>\n",
       "  </tbody>\n",
       "</table>\n",
       "</div>"
      ],
      "text/plain": [
       "      marque   nom  puissance     longueur  nbPlaces  nbPortes  occasion  \\\n",
       "6        BMW    M5        507  très longue         5         5         0   \n",
       "7        BMW    M5        507  très longue         5         5         1   \n",
       "23  Mercedes  S500        306  très longue         5         5         0   \n",
       "24  Mercedes  S500        306  très longue         5         5         1   \n",
       "\n",
       "      prix  label  \n",
       "6    94800      4  \n",
       "7    66360      4  \n",
       "23  101300      4  \n",
       "24   70910      4  "
      ]
     },
     "execution_count": 139,
     "metadata": {},
     "output_type": "execute_result"
    }
   ],
   "source": [
    "catalogue_uncolored[catalogue_uncolored.label == 4]"
   ]
  },
  {
   "cell_type": "code",
   "execution_count": 140,
   "metadata": {},
   "outputs": [],
   "source": [
    "#Save vechicles by categorie with pickle in order to show its in web interface\n",
    "categories = []\n",
    "for label in range(5):\n",
    "    categories.append(catalogue_uncolored[catalogue_uncolored.label == label] )\n",
    "\n",
    "with open(\"vehicle_categories.pkl\", 'wb') as file:\n",
    "    pickle.dump(categories, file)"
   ]
  },
  {
   "cell_type": "code",
   "execution_count": 141,
   "metadata": {},
   "outputs": [
    {
     "data": {
      "text/html": [
       "<div>\n",
       "<style scoped>\n",
       "    .dataframe tbody tr th:only-of-type {\n",
       "        vertical-align: middle;\n",
       "    }\n",
       "\n",
       "    .dataframe tbody tr th {\n",
       "        vertical-align: top;\n",
       "    }\n",
       "\n",
       "    .dataframe thead th {\n",
       "        text-align: right;\n",
       "    }\n",
       "</style>\n",
       "<table border=\"1\" class=\"dataframe\">\n",
       "  <thead>\n",
       "    <tr style=\"text-align: right;\">\n",
       "      <th></th>\n",
       "      <th>marque</th>\n",
       "      <th>nom</th>\n",
       "      <th>puissance</th>\n",
       "      <th>longueur</th>\n",
       "      <th>nbPlaces</th>\n",
       "      <th>nbPortes</th>\n",
       "      <th>occasion</th>\n",
       "      <th>prix</th>\n",
       "      <th>label</th>\n",
       "    </tr>\n",
       "  </thead>\n",
       "  <tbody>\n",
       "    <tr>\n",
       "      <th>6</th>\n",
       "      <td>BMW</td>\n",
       "      <td>M5</td>\n",
       "      <td>507</td>\n",
       "      <td>très longue</td>\n",
       "      <td>5</td>\n",
       "      <td>5</td>\n",
       "      <td>0</td>\n",
       "      <td>94800</td>\n",
       "      <td>4</td>\n",
       "    </tr>\n",
       "    <tr>\n",
       "      <th>7</th>\n",
       "      <td>BMW</td>\n",
       "      <td>M5</td>\n",
       "      <td>507</td>\n",
       "      <td>très longue</td>\n",
       "      <td>5</td>\n",
       "      <td>5</td>\n",
       "      <td>1</td>\n",
       "      <td>66360</td>\n",
       "      <td>4</td>\n",
       "    </tr>\n",
       "    <tr>\n",
       "      <th>23</th>\n",
       "      <td>Mercedes</td>\n",
       "      <td>S500</td>\n",
       "      <td>306</td>\n",
       "      <td>très longue</td>\n",
       "      <td>5</td>\n",
       "      <td>5</td>\n",
       "      <td>0</td>\n",
       "      <td>101300</td>\n",
       "      <td>4</td>\n",
       "    </tr>\n",
       "    <tr>\n",
       "      <th>24</th>\n",
       "      <td>Mercedes</td>\n",
       "      <td>S500</td>\n",
       "      <td>306</td>\n",
       "      <td>très longue</td>\n",
       "      <td>5</td>\n",
       "      <td>5</td>\n",
       "      <td>1</td>\n",
       "      <td>70910</td>\n",
       "      <td>4</td>\n",
       "    </tr>\n",
       "  </tbody>\n",
       "</table>\n",
       "</div>"
      ],
      "text/plain": [
       "      marque   nom  puissance     longueur  nbPlaces  nbPortes  occasion  \\\n",
       "6        BMW    M5        507  très longue         5         5         0   \n",
       "7        BMW    M5        507  très longue         5         5         1   \n",
       "23  Mercedes  S500        306  très longue         5         5         0   \n",
       "24  Mercedes  S500        306  très longue         5         5         1   \n",
       "\n",
       "      prix  label  \n",
       "6    94800      4  \n",
       "7    66360      4  \n",
       "23  101300      4  \n",
       "24   70910      4  "
      ]
     },
     "execution_count": 141,
     "metadata": {},
     "output_type": "execute_result"
    }
   ],
   "source": [
    "categories[4]"
   ]
  },
  {
   "cell_type": "code",
   "execution_count": 142,
   "metadata": {},
   "outputs": [
    {
     "data": {
      "text/plain": [
       "<AxesSubplot:xlabel='longueur', ylabel='count'>"
      ]
     },
     "execution_count": 142,
     "metadata": {},
     "output_type": "execute_result"
    },
    {
     "data": {
      "image/png": "[encoded data removed]",
      "text/plain": [
       "<Figure size 576x396 with 1 Axes>"
      ]
     },
     "metadata": {},
     "output_type": "display_data"
    }
   ],
   "source": [
    "sns.countplot(data=catalogue_uncolored, x=\"longueur\", hue=\"label\", palette=[\"#00f\", \"#0f0\", \"#ccc\", \"#f00\", \"#ff9\"])"
   ]
  },
  {
   "cell_type": "markdown",
   "metadata": {},
   "source": [
    "<font color=blue size=5> Les véhicules semblent avoir été regroupés par leur longueur </font>"
   ]
  },
  {
   "cell_type": "markdown",
   "metadata": {},
   "source": [
    "# Merging "
   ]
  },
  {
   "cell_type": "code",
   "execution_count": 143,
   "metadata": {},
   "outputs": [],
   "source": [
    "path_to_CO2 = \"./Données communes/CO2.csv\"\n",
    "CO2 = pd.read_csv(path_to_CO2)\n",
    "\n",
    "path_to_immatriculations = \"./Données communes/immatriculations.csv\"\n",
    "immatriculations = pd.read_csv(path_to_immatriculations, encoding=\"ISO-8859-1\")\n",
    "immatriculations.occasion = np.where(immatriculations.occasion, 1,0)\n",
    "# immatriculations.marque = immatriculations.marque.str.strip()\n",
    "\n",
    "path_to_clients = \"./Données par groupe/Groupe_TPT_6/Clients_61.csv\"\n",
    "clients = pd.read_csv(path_to_clients, encoding=\"ISO-8859-1\")"
   ]
  },
  {
   "cell_type": "markdown",
   "metadata": {},
   "source": [
    "## Clustering vehicles in immatriculations"
   ]
  },
  {
   "cell_type": "code",
   "execution_count": 144,
   "metadata": {},
   "outputs": [
    {
     "data": {
      "text/plain": [
       "(2000000, 10)"
      ]
     },
     "execution_count": 144,
     "metadata": {},
     "output_type": "execute_result"
    }
   ],
   "source": [
    "immatriculations.shape"
   ]
  },
  {
   "cell_type": "code",
   "execution_count": 145,
   "metadata": {},
   "outputs": [
    {
     "data": {
      "text/html": [
       "<div>\n",
       "<style scoped>\n",
       "    .dataframe tbody tr th:only-of-type {\n",
       "        vertical-align: middle;\n",
       "    }\n",
       "\n",
       "    .dataframe tbody tr th {\n",
       "        vertical-align: top;\n",
       "    }\n",
       "\n",
       "    .dataframe thead th {\n",
       "        text-align: right;\n",
       "    }\n",
       "</style>\n",
       "<table border=\"1\" class=\"dataframe\">\n",
       "  <thead>\n",
       "    <tr style=\"text-align: right;\">\n",
       "      <th></th>\n",
       "      <th>immatriculation</th>\n",
       "      <th>marque</th>\n",
       "      <th>nom</th>\n",
       "      <th>puissance</th>\n",
       "      <th>longueur</th>\n",
       "      <th>nbPlaces</th>\n",
       "      <th>nbPortes</th>\n",
       "      <th>couleur</th>\n",
       "      <th>occasion</th>\n",
       "      <th>prix</th>\n",
       "    </tr>\n",
       "  </thead>\n",
       "  <tbody>\n",
       "    <tr>\n",
       "      <th>1436686</th>\n",
       "      <td>1244 DT 20</td>\n",
       "      <td>Audi</td>\n",
       "      <td>A2 1.4</td>\n",
       "      <td>75</td>\n",
       "      <td>courte</td>\n",
       "      <td>5</td>\n",
       "      <td>5</td>\n",
       "      <td>rouge</td>\n",
       "      <td>0</td>\n",
       "      <td>18310</td>\n",
       "    </tr>\n",
       "    <tr>\n",
       "      <th>455710</th>\n",
       "      <td>7137 FE 80</td>\n",
       "      <td>Nissan</td>\n",
       "      <td>Primera 1.6</td>\n",
       "      <td>109</td>\n",
       "      <td>longue</td>\n",
       "      <td>5</td>\n",
       "      <td>5</td>\n",
       "      <td>rouge</td>\n",
       "      <td>0</td>\n",
       "      <td>18650</td>\n",
       "    </tr>\n",
       "    <tr>\n",
       "      <th>807276</th>\n",
       "      <td>5378 QR 34</td>\n",
       "      <td>Fiat</td>\n",
       "      <td>Croma 2.2</td>\n",
       "      <td>147</td>\n",
       "      <td>longue</td>\n",
       "      <td>5</td>\n",
       "      <td>5</td>\n",
       "      <td>blanc</td>\n",
       "      <td>0</td>\n",
       "      <td>24780</td>\n",
       "    </tr>\n",
       "    <tr>\n",
       "      <th>1956609</th>\n",
       "      <td>177 IB 37</td>\n",
       "      <td>Jaguar</td>\n",
       "      <td>X-Type 2.5 V6</td>\n",
       "      <td>197</td>\n",
       "      <td>longue</td>\n",
       "      <td>5</td>\n",
       "      <td>5</td>\n",
       "      <td>rouge</td>\n",
       "      <td>0</td>\n",
       "      <td>37100</td>\n",
       "    </tr>\n",
       "    <tr>\n",
       "      <th>278302</th>\n",
       "      <td>6144 FO 56</td>\n",
       "      <td>BMW</td>\n",
       "      <td>M5</td>\n",
       "      <td>507</td>\n",
       "      <td>très longue</td>\n",
       "      <td>5</td>\n",
       "      <td>5</td>\n",
       "      <td>noir</td>\n",
       "      <td>1</td>\n",
       "      <td>66360</td>\n",
       "    </tr>\n",
       "  </tbody>\n",
       "</table>\n",
       "</div>"
      ],
      "text/plain": [
       "        immatriculation  marque            nom  puissance     longueur  \\\n",
       "1436686      1244 DT 20    Audi         A2 1.4         75       courte   \n",
       "455710       7137 FE 80  Nissan    Primera 1.6        109       longue   \n",
       "807276       5378 QR 34    Fiat      Croma 2.2        147       longue   \n",
       "1956609       177 IB 37  Jaguar  X-Type 2.5 V6        197       longue   \n",
       "278302       6144 FO 56     BMW             M5        507  très longue   \n",
       "\n",
       "         nbPlaces  nbPortes couleur  occasion   prix  \n",
       "1436686         5         5   rouge         0  18310  \n",
       "455710          5         5   rouge         0  18650  \n",
       "807276          5         5   blanc         0  24780  \n",
       "1956609         5         5   rouge         0  37100  \n",
       "278302          5         5    noir         1  66360  "
      ]
     },
     "execution_count": 145,
     "metadata": {},
     "output_type": "execute_result"
    }
   ],
   "source": [
    "immatriculations.sample(5)"
   ]
  },
  {
   "cell_type": "code",
   "execution_count": 146,
   "metadata": {},
   "outputs": [
    {
     "data": {
      "text/plain": [
       "immatriculation    0\n",
       "marque             0\n",
       "nom                0\n",
       "puissance          0\n",
       "longueur           0\n",
       "nbPlaces           0\n",
       "nbPortes           0\n",
       "couleur            0\n",
       "occasion           0\n",
       "prix               0\n",
       "dtype: int64"
      ]
     },
     "execution_count": 146,
     "metadata": {},
     "output_type": "execute_result"
    }
   ],
   "source": [
    "immatriculations.isna().sum()"
   ]
  },
  {
   "cell_type": "code",
   "execution_count": 147,
   "metadata": {},
   "outputs": [
    {
     "data": {
      "text/plain": [
       "1996632"
      ]
     },
     "execution_count": 147,
     "metadata": {},
     "output_type": "execute_result"
    }
   ],
   "source": [
    "immatriculations.immatriculation.nunique()"
   ]
  },
  {
   "cell_type": "markdown",
   "metadata": {},
   "source": [
    "<font color=\"blue\" size=4> On remarque des lignes en  doublon et aussi des doublons au niveau de  la colonne \"immatriculation\" du dataframe immatriculations\n",
    "</font>"
   ]
  },
  {
   "cell_type": "markdown",
   "metadata": {},
   "source": [
    "<font color=\"blue\" size=4> \n",
    "Nous les supprimons, car une ligne doublon n'a pas de sens. De même, une même immatriculation dupliquée implique qu'elle pourrait appartenir à deux véhicules différents. Ce qui n'a de sens.\n",
    "</font>"
   ]
  },
  {
   "cell_type": "code",
   "execution_count": 148,
   "metadata": {},
   "outputs": [
    {
     "name": "stdout",
     "output_type": "stream",
     "text": [
      "Nombre de doublons dans la colonne immatriculation : 3368\n",
      "Nombre de lignes en doublon :  24\n"
     ]
    }
   ],
   "source": [
    "print(\"Nombre de doublons dans la colonne immatriculation :\", immatriculations.immatriculation.duplicated().sum())\n",
    "print(\"Nombre de lignes en doublon : \", immatriculations.duplicated().sum())"
   ]
  },
  {
   "cell_type": "code",
   "execution_count": 149,
   "metadata": {},
   "outputs": [],
   "source": [
    "immatriculations = immatriculations.drop_duplicates()\n",
    "immatriculations.drop(index=immatriculations[immatriculations.immatriculation.duplicated()].index, inplace=True)"
   ]
  },
  {
   "cell_type": "code",
   "execution_count": 150,
   "metadata": {},
   "outputs": [],
   "source": [
    "# Ajout des marques manquantes pour performer le clustering avec kmeans\n",
    "puissance_median = int(immatriculations.puissance.median())\n",
    "longueur_frequent = immatriculations.longueur.mode()[0]\n",
    "nbPlaces_frequent = immatriculations.nbPlaces.mode()[0]\n",
    "nbPortes_frequent = immatriculations.nbPortes.mode()[0]\n",
    "couleur_frequent = immatriculations.couleur.mode()[0]\n",
    "occasion_frequent = immatriculations.occasion.mode()[0]\n",
    "prix_median = int(immatriculations.prix.median())\n",
    "\n",
    "val = ['null', puissance_median, longueur_frequent, nbPlaces_frequent, nbPortes_frequent, couleur_frequent, occasion_frequent, prix_median]\n",
    "\n",
    "immatriculations.loc[2000000] = ['null', 'Honda']  + val \n",
    "immatriculations.loc[2000001] = ['null', 'Hyundaï'] + val"
   ]
  },
  {
   "cell_type": "code",
   "execution_count": 151,
   "metadata": {},
   "outputs": [],
   "source": [
    "X_immatriculations = pipe_ohe_scaling_catalogue.transform(immatriculations)"
   ]
  },
  {
   "cell_type": "code",
   "execution_count": 152,
   "metadata": {},
   "outputs": [
    {
     "data": {
      "text/plain": [
       "(1996634, 29)"
      ]
     },
     "execution_count": 152,
     "metadata": {},
     "output_type": "execute_result"
    }
   ],
   "source": [
    "X_immatriculations.shape"
   ]
  },
  {
   "cell_type": "code",
   "execution_count": 153,
   "metadata": {},
   "outputs": [],
   "source": [
    "immatriculations['label'] = kmeans_instances[4].predict(X_immatriculations)"
   ]
  },
  {
   "cell_type": "code",
   "execution_count": 154,
   "metadata": {},
   "outputs": [
    {
     "data": {
      "text/plain": [
       "<AxesSubplot:xlabel='label', ylabel='count'>"
      ]
     },
     "execution_count": 154,
     "metadata": {},
     "output_type": "execute_result"
    },
    {
     "data": {
      "image/png": "[encoded data removed]",
      "text/plain": [
       "<Figure size 576x396 with 1 Axes>"
      ]
     },
     "metadata": {},
     "output_type": "display_data"
    }
   ],
   "source": [
    "sns.countplot(x=immatriculations.label)"
   ]
  },
  {
   "cell_type": "code",
   "execution_count": 155,
   "metadata": {},
   "outputs": [
    {
     "data": {
      "text/plain": [
       "array([5], dtype=int64)"
      ]
     },
     "execution_count": 155,
     "metadata": {},
     "output_type": "execute_result"
    }
   ],
   "source": [
    "immatriculations.nbPlaces.unique()"
   ]
  },
  {
   "cell_type": "code",
   "execution_count": 156,
   "metadata": {},
   "outputs": [
    {
     "data": {
      "text/plain": [
       "<AxesSubplot:xlabel='longueur', ylabel='count'>"
      ]
     },
     "execution_count": 156,
     "metadata": {},
     "output_type": "execute_result"
    },
    {
     "data": {
      "image/png": "[encoded data removed]",
      "text/plain": [
       "<Figure size 576x396 with 1 Axes>"
      ]
     },
     "metadata": {},
     "output_type": "display_data"
    }
   ],
   "source": [
    "sns.countplot(data=immatriculations, x=\"longueur\", hue=\"label\")"
   ]
  },
  {
   "cell_type": "markdown",
   "metadata": {},
   "source": [
    "## <font color=\"blue\"> Les véhicules semblent avoir été regroupés par la longeur </font>"
   ]
  },
  {
   "cell_type": "markdown",
   "metadata": {},
   "source": [
    "## Join"
   ]
  },
  {
   "cell_type": "code",
   "execution_count": 157,
   "metadata": {},
   "outputs": [
    {
     "name": "stdout",
     "output_type": "stream",
     "text": [
      "(100000, 7)\n"
     ]
    }
   ],
   "source": [
    "print(clients.shape)"
   ]
  },
  {
   "cell_type": "code",
   "execution_count": 158,
   "metadata": {},
   "outputs": [
    {
     "name": "stdout",
     "output_type": "stream",
     "text": [
      "Nombre de doublons dans la colonne immatriculation : 18\n",
      "Nombre de lignes en doublon :  0\n"
     ]
    }
   ],
   "source": [
    "print(\"Nombre de doublons dans la colonne immatriculation :\", clients.immatriculation.duplicated().sum())\n",
    "print(\"Nombre de lignes en doublon : \", clients.duplicated().sum())"
   ]
  },
  {
   "cell_type": "code",
   "execution_count": 159,
   "metadata": {},
   "outputs": [],
   "source": [
    "clients.drop(index=clients[clients.immatriculation.duplicated()].index, inplace=True)"
   ]
  },
  {
   "cell_type": "code",
   "execution_count": 160,
   "metadata": {},
   "outputs": [],
   "source": [
    "clients_immatriculations = clients.merge(immatriculations, on=\"immatriculation\")"
   ]
  },
  {
   "cell_type": "code",
   "execution_count": 161,
   "metadata": {},
   "outputs": [
    {
     "name": "stdout",
     "output_type": "stream",
     "text": [
      "Nombre de doublons après la jointure :  0\n"
     ]
    }
   ],
   "source": [
    "print(\"Nombre de doublons après la jointure : \", clients_immatriculations.duplicated().sum())"
   ]
  },
  {
   "cell_type": "markdown",
   "metadata": {},
   "source": [
    "## EDA de Clients"
   ]
  },
  {
   "cell_type": "code",
   "execution_count": 162,
   "metadata": {},
   "outputs": [],
   "source": [
    "#Suppression des colonnes venant de immatriculations (sauf la variable cible )\n",
    "clients_labeled = clients_immatriculations.drop(columns=[\"immatriculation\", \"marque\",\t\"nom\", \"puissance\",\t\"longueur\",\t\"nbPlaces\",\t\"nbPortes\",\t\"couleur\",\t\"occasion\", \"prix\"])\n",
    "clients_labeled.rename(columns={\"2eme voiture\" : \"VoitureN2\"}, inplace=True)"
   ]
  },
  {
   "cell_type": "code",
   "execution_count": 163,
   "metadata": {},
   "outputs": [
    {
     "name": "stdout",
     "output_type": "stream",
     "text": [
      "(99982, 7)\n"
     ]
    },
    {
     "data": {
      "text/html": [
       "<div>\n",
       "<style scoped>\n",
       "    .dataframe tbody tr th:only-of-type {\n",
       "        vertical-align: middle;\n",
       "    }\n",
       "\n",
       "    .dataframe tbody tr th {\n",
       "        vertical-align: top;\n",
       "    }\n",
       "\n",
       "    .dataframe thead th {\n",
       "        text-align: right;\n",
       "    }\n",
       "</style>\n",
       "<table border=\"1\" class=\"dataframe\">\n",
       "  <thead>\n",
       "    <tr style=\"text-align: right;\">\n",
       "      <th></th>\n",
       "      <th>age</th>\n",
       "      <th>sexe</th>\n",
       "      <th>taux</th>\n",
       "      <th>situationFamiliale</th>\n",
       "      <th>nbEnfantsAcharge</th>\n",
       "      <th>VoitureN2</th>\n",
       "      <th>label</th>\n",
       "    </tr>\n",
       "  </thead>\n",
       "  <tbody>\n",
       "    <tr>\n",
       "      <th>89898</th>\n",
       "      <td>73</td>\n",
       "      <td>M</td>\n",
       "      <td>512</td>\n",
       "      <td>En Couple</td>\n",
       "      <td>0</td>\n",
       "      <td>true</td>\n",
       "      <td>3</td>\n",
       "    </tr>\n",
       "    <tr>\n",
       "      <th>30164</th>\n",
       "      <td>53</td>\n",
       "      <td>F</td>\n",
       "      <td>-1</td>\n",
       "      <td>Seule</td>\n",
       "      <td>3</td>\n",
       "      <td>false</td>\n",
       "      <td>2</td>\n",
       "    </tr>\n",
       "    <tr>\n",
       "      <th>11523</th>\n",
       "      <td>42</td>\n",
       "      <td>F</td>\n",
       "      <td>499</td>\n",
       "      <td>En Couple</td>\n",
       "      <td>3</td>\n",
       "      <td>false</td>\n",
       "      <td>4</td>\n",
       "    </tr>\n",
       "    <tr>\n",
       "      <th>40472</th>\n",
       "      <td>54</td>\n",
       "      <td>M</td>\n",
       "      <td>210</td>\n",
       "      <td>En Couple</td>\n",
       "      <td>3</td>\n",
       "      <td>false</td>\n",
       "      <td>1</td>\n",
       "    </tr>\n",
       "    <tr>\n",
       "      <th>30567</th>\n",
       "      <td>23</td>\n",
       "      <td>M</td>\n",
       "      <td>530</td>\n",
       "      <td>Célibataire</td>\n",
       "      <td>0</td>\n",
       "      <td>false</td>\n",
       "      <td>3</td>\n",
       "    </tr>\n",
       "  </tbody>\n",
       "</table>\n",
       "</div>"
      ],
      "text/plain": [
       "      age sexe taux situationFamiliale nbEnfantsAcharge VoitureN2  label\n",
       "89898  73    M  512          En Couple                0      true      3\n",
       "30164  53    F   -1              Seule                3     false      2\n",
       "11523  42    F  499          En Couple                3     false      4\n",
       "40472  54    M  210          En Couple                3     false      1\n",
       "30567  23    M  530        Célibataire                0     false      3"
      ]
     },
     "execution_count": 163,
     "metadata": {},
     "output_type": "execute_result"
    }
   ],
   "source": [
    "print(clients_labeled.shape)\n",
    "clients_labeled.sample(5)"
   ]
  },
  {
   "cell_type": "code",
   "execution_count": 164,
   "metadata": {},
   "outputs": [
    {
     "data": {
      "text/plain": [
       "age                   object\n",
       "sexe                  object\n",
       "taux                  object\n",
       "situationFamiliale    object\n",
       "nbEnfantsAcharge      object\n",
       "VoitureN2             object\n",
       "label                  int32\n",
       "dtype: object"
      ]
     },
     "execution_count": 164,
     "metadata": {},
     "output_type": "execute_result"
    }
   ],
   "source": [
    "clients_labeled.dtypes"
   ]
  },
  {
   "cell_type": "code",
   "execution_count": 165,
   "metadata": {},
   "outputs": [
    {
     "data": {
      "text/plain": [
       "age                   308\n",
       "sexe                  310\n",
       "taux                  322\n",
       "situationFamiliale    306\n",
       "nbEnfantsAcharge      316\n",
       "VoitureN2             205\n",
       "label                   0\n",
       "dtype: int64"
      ]
     },
     "execution_count": 165,
     "metadata": {},
     "output_type": "execute_result"
    }
   ],
   "source": [
    "clients_labeled.isin([\" \", \"?\", \"N/D\", \"-1\"]).sum()"
   ]
  },
  {
   "cell_type": "code",
   "execution_count": 166,
   "metadata": {},
   "outputs": [
    {
     "data": {
      "text/plain": [
       "'values of sexe column : '"
      ]
     },
     "metadata": {},
     "output_type": "display_data"
    },
    {
     "data": {
      "text/plain": [
       "M           68351\n",
       "F           29363\n",
       "Masculin      699\n",
       "Homme         683\n",
       "Féminin       300\n",
       "Femme         276\n",
       "              110\n",
       "?             106\n",
       "N/D            94\n",
       "Name: sexe, dtype: int64"
      ]
     },
     "metadata": {},
     "output_type": "display_data"
    },
    {
     "name": "stdout",
     "output_type": "stream",
     "text": [
      "===============\n"
     ]
    },
    {
     "data": {
      "text/plain": [
       "'values of situationFamiliale column : '"
      ]
     },
     "metadata": {},
     "output_type": "display_data"
    },
    {
     "data": {
      "text/plain": [
       "En Couple      64052\n",
       "Célibataire    29725\n",
       "Seule           4852\n",
       "Marié(e)         657\n",
       "Seul             336\n",
       "N/D              103\n",
       "                 102\n",
       "?                101\n",
       "Divorcée          54\n",
       "Name: situationFamiliale, dtype: int64"
      ]
     },
     "metadata": {},
     "output_type": "display_data"
    }
   ],
   "source": [
    "display(\"values of sexe column : \", clients_labeled.sexe.value_counts())\n",
    "print(\"=\"*15)\n",
    "display(\"values of situationFamiliale column : \", clients_labeled.situationFamiliale.value_counts()) "
   ]
  },
  {
   "cell_type": "code",
   "execution_count": 167,
   "metadata": {},
   "outputs": [],
   "source": [
    "map_sexe = {\"M\": \"Masculin\", \"F\": \"Féminin\", \"Masculin\" : \"Masculin\", \"Homme\" : \"Masculin\", \"Féminin\" : \"Féminin\", \"Femme\" : \"Féminin\"}\n",
    "map_situationFamiliale = {\"En Couple\": \"En Couple\", \"Célibataire\": \"Célibataire\", \"Seule\" : \"Célibataire\", \"Marié(e)\" : \"En Couple\", \"Seul\" : \"Célibataire\"}\n",
    "map_VoitureN2 = {\"true\": \"Oui\", \"false\": \"Non\"}\n",
    "\n",
    "clients_labeled.age = pd.to_numeric(clients_labeled.age, errors=\"coerce\")\n",
    "clients_labeled.taux = pd.to_numeric(clients_labeled.taux, errors=\"coerce\")\n",
    "clients_labeled.nbEnfantsAcharge = pd.to_numeric(clients_labeled.nbEnfantsAcharge, errors=\"coerce\") \n",
    "\n",
    "clients_labeled['VoitureN2'] = clients_labeled['VoitureN2'].map(map_VoitureN2)\n",
    "clients_labeled.sexe = clients_labeled.sexe.map(map_sexe)\n",
    "clients_labeled.situationFamiliale = clients_labeled.situationFamiliale.map(map_situationFamiliale)"
   ]
  },
  {
   "cell_type": "code",
   "execution_count": 168,
   "metadata": {},
   "outputs": [
    {
     "data": {
      "text/plain": [
       "age                   0.0\n",
       "sexe                  0.0\n",
       "taux                  0.0\n",
       "situationFamiliale    0.0\n",
       "nbEnfantsAcharge      0.0\n",
       "VoitureN2             0.0\n",
       "label                 0.0\n",
       "dtype: float64"
      ]
     },
     "execution_count": 168,
     "metadata": {},
     "output_type": "execute_result"
    }
   ],
   "source": [
    "clients_labeled.isin([\" \", \"?\", \"N/D\", \"-1\"]).mean()*100"
   ]
  },
  {
   "cell_type": "code",
   "execution_count": 169,
   "metadata": {},
   "outputs": [
    {
     "data": {
      "text/plain": [
       "age                   208\n",
       "sexe                  310\n",
       "taux                  223\n",
       "situationFamiliale    360\n",
       "nbEnfantsAcharge      206\n",
       "VoitureN2             205\n",
       "label                   0\n",
       "dtype: int64"
      ]
     },
     "metadata": {},
     "output_type": "display_data"
    },
    {
     "name": "stdout",
     "output_type": "stream",
     "text": [
      "\n"
     ]
    },
    {
     "data": {
      "text/plain": [
       "age                   100\n",
       "sexe                    0\n",
       "taux                   99\n",
       "situationFamiliale      0\n",
       "nbEnfantsAcharge      110\n",
       "VoitureN2               0\n",
       "label                   0\n",
       "dtype: int64"
      ]
     },
     "metadata": {},
     "output_type": "display_data"
    }
   ],
   "source": [
    "display(clients_labeled.isna().sum())\n",
    "print()\n",
    "display(clients_labeled.isin([-1]).sum())"
   ]
  },
  {
   "cell_type": "markdown",
   "metadata": {},
   "source": [
    "<font color=\"blue\"> Plusieurs colonnes ont des valeurs manquantes mais en très faible proportion. \n",
    "\n",
    "Nous faisons le choix de les supprimer.\n",
    "\n",
    " </font>"
   ]
  },
  {
   "cell_type": "code",
   "execution_count": 170,
   "metadata": {},
   "outputs": [],
   "source": [
    "clients_labeled_cleaned = clients_labeled.copy()"
   ]
  },
  {
   "cell_type": "code",
   "execution_count": 171,
   "metadata": {},
   "outputs": [],
   "source": [
    "clients_labeled_cleaned.dropna(inplace=True)\n",
    "clients_labeled_cleaned.drop(index = clients_labeled_cleaned[clients_labeled_cleaned.age.isin([-1]) | clients_labeled_cleaned.taux.isin([-1]) | clients_labeled_cleaned.nbEnfantsAcharge.isin([-1])].index, inplace=True)"
   ]
  },
  {
   "cell_type": "code",
   "execution_count": 172,
   "metadata": {},
   "outputs": [
    {
     "data": {
      "text/plain": [
       "age                   0\n",
       "sexe                  0\n",
       "taux                  0\n",
       "situationFamiliale    0\n",
       "nbEnfantsAcharge      0\n",
       "VoitureN2             0\n",
       "label                 0\n",
       "dtype: int64"
      ]
     },
     "metadata": {},
     "output_type": "display_data"
    },
    {
     "name": "stdout",
     "output_type": "stream",
     "text": [
      "\n"
     ]
    },
    {
     "data": {
      "text/plain": [
       "age                   0\n",
       "sexe                  0\n",
       "taux                  0\n",
       "situationFamiliale    0\n",
       "nbEnfantsAcharge      0\n",
       "VoitureN2             0\n",
       "label                 0\n",
       "dtype: int64"
      ]
     },
     "metadata": {},
     "output_type": "display_data"
    }
   ],
   "source": [
    "display(clients_labeled_cleaned.isna().sum())\n",
    "print()\n",
    "display(clients_labeled_cleaned.isin([-1]).sum())"
   ]
  },
  {
   "cell_type": "markdown",
   "metadata": {},
   "source": [
    "<font color=\"blue\"> Premier jeu de données propre </font>"
   ]
  },
  {
   "cell_type": "code",
   "execution_count": 173,
   "metadata": {},
   "outputs": [
    {
     "data": {
      "text/html": [
       "<div>\n",
       "<style scoped>\n",
       "    .dataframe tbody tr th:only-of-type {\n",
       "        vertical-align: middle;\n",
       "    }\n",
       "\n",
       "    .dataframe tbody tr th {\n",
       "        vertical-align: top;\n",
       "    }\n",
       "\n",
       "    .dataframe thead th {\n",
       "        text-align: right;\n",
       "    }\n",
       "</style>\n",
       "<table border=\"1\" class=\"dataframe\">\n",
       "  <thead>\n",
       "    <tr style=\"text-align: right;\">\n",
       "      <th></th>\n",
       "      <th>age</th>\n",
       "      <th>sexe</th>\n",
       "      <th>taux</th>\n",
       "      <th>situationFamiliale</th>\n",
       "      <th>nbEnfantsAcharge</th>\n",
       "      <th>VoitureN2</th>\n",
       "      <th>label</th>\n",
       "    </tr>\n",
       "  </thead>\n",
       "  <tbody>\n",
       "    <tr>\n",
       "      <th>count</th>\n",
       "      <td>98171.000000</td>\n",
       "      <td>98171</td>\n",
       "      <td>98171.000000</td>\n",
       "      <td>98171</td>\n",
       "      <td>98171.000000</td>\n",
       "      <td>98171</td>\n",
       "      <td>98171.000000</td>\n",
       "    </tr>\n",
       "    <tr>\n",
       "      <th>unique</th>\n",
       "      <td>NaN</td>\n",
       "      <td>2</td>\n",
       "      <td>NaN</td>\n",
       "      <td>2</td>\n",
       "      <td>NaN</td>\n",
       "      <td>2</td>\n",
       "      <td>NaN</td>\n",
       "    </tr>\n",
       "    <tr>\n",
       "      <th>top</th>\n",
       "      <td>NaN</td>\n",
       "      <td>Masculin</td>\n",
       "      <td>NaN</td>\n",
       "      <td>En Couple</td>\n",
       "      <td>NaN</td>\n",
       "      <td>Non</td>\n",
       "      <td>NaN</td>\n",
       "    </tr>\n",
       "    <tr>\n",
       "      <th>freq</th>\n",
       "      <td>NaN</td>\n",
       "      <td>68705</td>\n",
       "      <td>NaN</td>\n",
       "      <td>63801</td>\n",
       "      <td>NaN</td>\n",
       "      <td>85354</td>\n",
       "      <td>NaN</td>\n",
       "    </tr>\n",
       "    <tr>\n",
       "      <th>mean</th>\n",
       "      <td>43.770584</td>\n",
       "      <td>NaN</td>\n",
       "      <td>607.820874</td>\n",
       "      <td>NaN</td>\n",
       "      <td>1.247191</td>\n",
       "      <td>NaN</td>\n",
       "      <td>2.246875</td>\n",
       "    </tr>\n",
       "    <tr>\n",
       "      <th>std</th>\n",
       "      <td>18.271554</td>\n",
       "      <td>NaN</td>\n",
       "      <td>333.909303</td>\n",
       "      <td>NaN</td>\n",
       "      <td>1.383272</td>\n",
       "      <td>NaN</td>\n",
       "      <td>1.248484</td>\n",
       "    </tr>\n",
       "    <tr>\n",
       "      <th>min</th>\n",
       "      <td>18.000000</td>\n",
       "      <td>NaN</td>\n",
       "      <td>150.000000</td>\n",
       "      <td>NaN</td>\n",
       "      <td>0.000000</td>\n",
       "      <td>NaN</td>\n",
       "      <td>0.000000</td>\n",
       "    </tr>\n",
       "    <tr>\n",
       "      <th>25%</th>\n",
       "      <td>28.000000</td>\n",
       "      <td>NaN</td>\n",
       "      <td>422.000000</td>\n",
       "      <td>NaN</td>\n",
       "      <td>0.000000</td>\n",
       "      <td>NaN</td>\n",
       "      <td>1.000000</td>\n",
       "    </tr>\n",
       "    <tr>\n",
       "      <th>50%</th>\n",
       "      <td>42.000000</td>\n",
       "      <td>NaN</td>\n",
       "      <td>522.000000</td>\n",
       "      <td>NaN</td>\n",
       "      <td>1.000000</td>\n",
       "      <td>NaN</td>\n",
       "      <td>2.000000</td>\n",
       "    </tr>\n",
       "    <tr>\n",
       "      <th>75%</th>\n",
       "      <td>56.000000</td>\n",
       "      <td>NaN</td>\n",
       "      <td>822.000000</td>\n",
       "      <td>NaN</td>\n",
       "      <td>2.000000</td>\n",
       "      <td>NaN</td>\n",
       "      <td>3.000000</td>\n",
       "    </tr>\n",
       "    <tr>\n",
       "      <th>max</th>\n",
       "      <td>84.000000</td>\n",
       "      <td>NaN</td>\n",
       "      <td>1399.000000</td>\n",
       "      <td>NaN</td>\n",
       "      <td>4.000000</td>\n",
       "      <td>NaN</td>\n",
       "      <td>4.000000</td>\n",
       "    </tr>\n",
       "  </tbody>\n",
       "</table>\n",
       "</div>"
      ],
      "text/plain": [
       "                 age      sexe          taux situationFamiliale  \\\n",
       "count   98171.000000     98171  98171.000000              98171   \n",
       "unique           NaN         2           NaN                  2   \n",
       "top              NaN  Masculin           NaN          En Couple   \n",
       "freq             NaN     68705           NaN              63801   \n",
       "mean       43.770584       NaN    607.820874                NaN   \n",
       "std        18.271554       NaN    333.909303                NaN   \n",
       "min        18.000000       NaN    150.000000                NaN   \n",
       "25%        28.000000       NaN    422.000000                NaN   \n",
       "50%        42.000000       NaN    522.000000                NaN   \n",
       "75%        56.000000       NaN    822.000000                NaN   \n",
       "max        84.000000       NaN   1399.000000                NaN   \n",
       "\n",
       "        nbEnfantsAcharge VoitureN2         label  \n",
       "count       98171.000000     98171  98171.000000  \n",
       "unique               NaN         2           NaN  \n",
       "top                  NaN       Non           NaN  \n",
       "freq                 NaN     85354           NaN  \n",
       "mean            1.247191       NaN      2.246875  \n",
       "std             1.383272       NaN      1.248484  \n",
       "min             0.000000       NaN      0.000000  \n",
       "25%             0.000000       NaN      1.000000  \n",
       "50%             1.000000       NaN      2.000000  \n",
       "75%             2.000000       NaN      3.000000  \n",
       "max             4.000000       NaN      4.000000  "
      ]
     },
     "execution_count": 173,
     "metadata": {},
     "output_type": "execute_result"
    }
   ],
   "source": [
    "clients_labeled_cleaned.describe(include=\"all\")"
   ]
  },
  {
   "cell_type": "markdown",
   "metadata": {},
   "source": [
    "## Visualisation "
   ]
  },
  {
   "cell_type": "code",
   "execution_count": 174,
   "metadata": {},
   "outputs": [
    {
     "data": {
      "text/plain": [
       "<seaborn.axisgrid.FacetGrid at 0x1df827b73a0>"
      ]
     },
     "execution_count": 174,
     "metadata": {},
     "output_type": "execute_result"
    },
    {
     "data": {
      "image/png": "[encoded data removed]",
      "text/plain": [
       "<Figure size 720x360 with 1 Axes>"
      ]
     },
     "metadata": {},
     "output_type": "display_data"
    }
   ],
   "source": [
    "sns.displot(data=clients_labeled_cleaned, x=\"sexe\", kind=\"hist\", aspect=2)"
   ]
  },
  {
   "cell_type": "markdown",
   "metadata": {},
   "source": [
    "<font color=blue size=5>\n",
    "On note qu'il y a deux fois plus d'hommes que de femmes\n",
    "</font>"
   ]
  },
  {
   "cell_type": "code",
   "execution_count": 175,
   "metadata": {},
   "outputs": [
    {
     "data": {
      "image/png": "[encoded data removed]",
      "text/plain": [
       "<Figure size 795.875x360 with 1 Axes>"
      ]
     },
     "metadata": {},
     "output_type": "display_data"
    }
   ],
   "source": [
    "sns.displot(data=clients_labeled_cleaned, x=\"age\", hue=\"sexe\", kind=\"kde\", aspect=2)\n",
    "plt.show()"
   ]
  },
  {
   "cell_type": "markdown",
   "metadata": {},
   "source": [
    "<font color=blue size=5> Nous pouvons distinguer 3 catégories d'âge : les moins de 30 ans, les 30-60 ans et les 60-85 ans. </font>"
   ]
  },
  {
   "cell_type": "code",
   "execution_count": 176,
   "metadata": {},
   "outputs": [],
   "source": [
    "clients_labeled_cleaned['tranche_age'] = clients_labeled_cleaned.age.map(lambda x : 0 if x < 35 else (1 if x>=35 and x<60 else 2))"
   ]
  },
  {
   "cell_type": "code",
   "execution_count": 177,
   "metadata": {},
   "outputs": [
    {
     "data": {
      "text/html": [
       "<div>\n",
       "<style scoped>\n",
       "    .dataframe tbody tr th:only-of-type {\n",
       "        vertical-align: middle;\n",
       "    }\n",
       "\n",
       "    .dataframe tbody tr th {\n",
       "        vertical-align: top;\n",
       "    }\n",
       "\n",
       "    .dataframe thead th {\n",
       "        text-align: right;\n",
       "    }\n",
       "</style>\n",
       "<table border=\"1\" class=\"dataframe\">\n",
       "  <thead>\n",
       "    <tr style=\"text-align: right;\">\n",
       "      <th></th>\n",
       "      <th>age</th>\n",
       "      <th>sexe</th>\n",
       "      <th>taux</th>\n",
       "      <th>situationFamiliale</th>\n",
       "      <th>nbEnfantsAcharge</th>\n",
       "      <th>VoitureN2</th>\n",
       "      <th>label</th>\n",
       "      <th>tranche_age</th>\n",
       "    </tr>\n",
       "  </thead>\n",
       "  <tbody>\n",
       "    <tr>\n",
       "      <th>0</th>\n",
       "      <td>62.0</td>\n",
       "      <td>Masculin</td>\n",
       "      <td>1262.0</td>\n",
       "      <td>En Couple</td>\n",
       "      <td>1.0</td>\n",
       "      <td>Non</td>\n",
       "      <td>2</td>\n",
       "      <td>2</td>\n",
       "    </tr>\n",
       "    <tr>\n",
       "      <th>1</th>\n",
       "      <td>68.0</td>\n",
       "      <td>Masculin</td>\n",
       "      <td>514.0</td>\n",
       "      <td>En Couple</td>\n",
       "      <td>2.0</td>\n",
       "      <td>Non</td>\n",
       "      <td>2</td>\n",
       "      <td>2</td>\n",
       "    </tr>\n",
       "    <tr>\n",
       "      <th>2</th>\n",
       "      <td>26.0</td>\n",
       "      <td>Féminin</td>\n",
       "      <td>181.0</td>\n",
       "      <td>En Couple</td>\n",
       "      <td>4.0</td>\n",
       "      <td>Oui</td>\n",
       "      <td>1</td>\n",
       "      <td>0</td>\n",
       "    </tr>\n",
       "    <tr>\n",
       "      <th>3</th>\n",
       "      <td>34.0</td>\n",
       "      <td>Masculin</td>\n",
       "      <td>829.0</td>\n",
       "      <td>Célibataire</td>\n",
       "      <td>0.0</td>\n",
       "      <td>Non</td>\n",
       "      <td>3</td>\n",
       "      <td>0</td>\n",
       "    </tr>\n",
       "    <tr>\n",
       "      <th>4</th>\n",
       "      <td>50.0</td>\n",
       "      <td>Masculin</td>\n",
       "      <td>1169.0</td>\n",
       "      <td>En Couple</td>\n",
       "      <td>4.0</td>\n",
       "      <td>Non</td>\n",
       "      <td>4</td>\n",
       "      <td>1</td>\n",
       "    </tr>\n",
       "  </tbody>\n",
       "</table>\n",
       "</div>"
      ],
      "text/plain": [
       "    age      sexe    taux situationFamiliale  nbEnfantsAcharge VoitureN2  \\\n",
       "0  62.0  Masculin  1262.0          En Couple               1.0       Non   \n",
       "1  68.0  Masculin   514.0          En Couple               2.0       Non   \n",
       "2  26.0   Féminin   181.0          En Couple               4.0       Oui   \n",
       "3  34.0  Masculin   829.0        Célibataire               0.0       Non   \n",
       "4  50.0  Masculin  1169.0          En Couple               4.0       Non   \n",
       "\n",
       "   label  tranche_age  \n",
       "0      2            2  \n",
       "1      2            2  \n",
       "2      1            0  \n",
       "3      3            0  \n",
       "4      4            1  "
      ]
     },
     "execution_count": 177,
     "metadata": {},
     "output_type": "execute_result"
    }
   ],
   "source": [
    "clients_labeled_cleaned.head()"
   ]
  },
  {
   "cell_type": "code",
   "execution_count": 178,
   "metadata": {},
   "outputs": [],
   "source": [
    "clients_labeled_cleaned.to_pickle('clients_labeled_cleaned_08_03_2023.pkl')"
   ]
  },
  {
   "cell_type": "code",
   "execution_count": null,
   "metadata": {},
   "outputs": [],
   "source": []
  }
 ],
 "metadata": {
  "kernelspec": {
   "display_name": "Python 3 (ipykernel)",
   "language": "python",
   "name": "python3"
  },
  "language_info": {
   "codemirror_mode": {
    "name": "ipython",
    "version": 3
   },
   "file_extension": ".py",
   "mimetype": "text/x-python",
   "name": "python",
   "nbconvert_exporter": "python",
   "pygments_lexer": "ipython3",
   "version": "3.9.12"
  },
  "vscode": {
   "interpreter": {
    "hash": "715aba76e0520e238162ebfeae074f71bcc15f5f900ef102f91e6aea3350629a"
   }
  }
 },
 "nbformat": 4,
 "nbformat_minor": 2
}
